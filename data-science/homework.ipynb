{
  "cells": [
    {
      "metadata": {
        "_uuid": "8f2839f25d086af736a60e9eeb907d3b93b6e0e5",
        "_cell_guid": "b1076dfc-b9ad-4769-8c92-a6c4dae69d19",
        "trusted": true
      },
      "cell_type": "code",
      "source": "# This Python 3 environment comes with many helpful analytics libraries installed\n# It is defined by the kaggle/python docker image: https://github.com/kaggle/docker-python\n# For example, here's several helpful packages to load in \n\nimport numpy as np # linear algebra\nimport pandas as pd # data processing, CSV file I/O (e.g. pd.read_csv)\nimport matplotlib.pyplot as plt\nimport seaborn as sns\n\n# Input data files are available in the \"../input/\" directory.\n# For example, running this (by clicking run or pressing Shift+Enter) will list the files in the input directory\n\nimport os\nprint(os.listdir(\"../input\"))\n\n# Any results you write to the current directory are saved as output.",
      "execution_count": null,
      "outputs": []
    },
    {
      "metadata": {
        "_cell_guid": "79c7e3d0-c299-4dcb-8224-4455121ee9b0",
        "_uuid": "d629ff2d2480ee46fbb7e2d37f6b5fab8052498a",
        "trusted": true
      },
      "cell_type": "code",
      "source": "data = pd.read_csv('../input/AppleStore.csv')",
      "execution_count": null,
      "outputs": []
    },
    {
      "metadata": {
        "trusted": true,
        "_uuid": "7f0fa762b17a80080347da8c50e79d52eec6bb7a"
      },
      "cell_type": "code",
      "source": "data.info()",
      "execution_count": null,
      "outputs": []
    },
    {
      "metadata": {
        "trusted": true,
        "_uuid": "266da6fe0bb8b6319d4c614edfa89e3dd05ba1bd"
      },
      "cell_type": "code",
      "source": "data.corr()",
      "execution_count": null,
      "outputs": []
    },
    {
      "metadata": {
        "trusted": true,
        "_uuid": "05b171a6d4704810db3aff61d385cfab17de537d"
      },
      "cell_type": "code",
      "source": "f,ax = plt.subplots(figsize=(18,18)\nsns.heatmap(data.corr(), annot=True, linewidths=.5, fmt= '.1f',ax=ax)\nplt.show()",
      "execution_count": null,
      "outputs": []
    },
    {
      "metadata": {
        "trusted": true,
        "_uuid": "820cbfe03c8f7f9b20c2040ee4abda3b8655fc8e"
      },
      "cell_type": "code",
      "source": "data.head(10)",
      "execution_count": null,
      "outputs": []
    },
    {
      "metadata": {
        "trusted": true,
        "_uuid": "6c79cfe61c2a7c4bb2c15e07b77cc82076f8d024"
      },
      "cell_type": "code",
      "source": "data.columns",
      "execution_count": null,
      "outputs": []
    },
    {
      "metadata": {
        "_uuid": "75304d2ad916847e6c4292bdbc5a5aa05299a73f"
      },
      "cell_type": "markdown",
      "source": "MATPLOTLIB"
    },
    {
      "metadata": {
        "trusted": true,
        "_uuid": "bd449c3f31339689b0198a3aa8928db78890df25"
      },
      "cell_type": "code",
      "source": "data.user_rating.plot(kind ='line', color ='g',label = 'Size Bytes',linewidth=1,alpha = 0.5,grid=True,linestyle =':')\ndata.price.plot(color ='r',label = 'Price',linewidth=1,alpha = 0.5,grid=True,linestyle ='-')\nplt.legend(loc='upper right')\nplt.xlabel('rating')\nplt.ylabel('price')\nplt.title('Line Plot')\nplt.show()",
      "execution_count": null,
      "outputs": []
    },
    {
      "metadata": {
        "trusted": true,
        "collapsed": true,
        "_uuid": "3802038c8ef1a62bce56fcf2b6bb22984997bad7"
      },
      "cell_type": "code",
      "source": "",
      "execution_count": null,
      "outputs": []
    },
    {
      "metadata": {
        "trusted": true,
        "_uuid": "f5007efe5c256fe4655e4b5f830c35a8e51a4056"
      },
      "cell_type": "code",
      "source": "data.plot(kind='scatter', x='user_rating',y='price',alpha=0.5, color='red')\nplt.xlabel('rating')\nplt.ylabel('price')\nplt.title('Scatter Plot')\nplt.show()",
      "execution_count": null,
      "outputs": []
    },
    {
      "metadata": {
        "trusted": true,
        "_uuid": "c274a3319f9634acd85a33bb950d2dd804f06957"
      },
      "cell_type": "code",
      "source": "data.price.plot(kind = 'hist',bins = 50, figsize=(5,5))\nplt.xlabel('rating')\nplt.ylabel('price')\nplt.show()",
      "execution_count": null,
      "outputs": []
    },
    {
      "metadata": {
        "trusted": true,
        "_uuid": "6b002e9e63c0dbce7a1aa4d42cfe101a843030df"
      },
      "cell_type": "code",
      "source": "data.price.plot(kind = 'hist', bins =50)\nplt.clf()",
      "execution_count": null,
      "outputs": []
    },
    {
      "metadata": {
        "_uuid": "07fc9490c42945c5c63ef2465839aa11374169c9"
      },
      "cell_type": "markdown",
      "source": "Dictionary"
    },
    {
      "metadata": {
        "trusted": true,
        "_uuid": "a83fa0905b0859697aa82b6e6cd1441c51de7343"
      },
      "cell_type": "code",
      "source": "dict = {'turkey':'rize', 'usa':'vegas'}\nprint(dict.keys())\nprint(dict.values())",
      "execution_count": null,
      "outputs": []
    },
    {
      "metadata": {
        "trusted": true,
        "_uuid": "675daa6be22af3c7c8a08a293311cdffa038ed21"
      },
      "cell_type": "code",
      "source": "dict['turkey']='izmir'\nprint(dict)\ndict['france']='paris'\nprint(dict)\ndel dict['turkey']\nprint(dict)\nprint('france' in dict)\ndict.clear()\nprint(dict)\n",
      "execution_count": null,
      "outputs": []
    },
    {
      "metadata": {
        "trusted": true,
        "_uuid": "a0eab642bfcc34c6a312daf04e9126e9851ca693"
      },
      "cell_type": "code",
      "source": "data.info()",
      "execution_count": null,
      "outputs": []
    },
    {
      "metadata": {
        "trusted": true,
        "_uuid": "7ed4a2369b30e54ec26397f3e37cd4f2d6e8bc14"
      },
      "cell_type": "code",
      "source": "series = data['price']\nprint(type(series))\ndata_frame = data[['price']]\nprint(type(data_frame))",
      "execution_count": null,
      "outputs": []
    },
    {
      "metadata": {
        "trusted": true,
        "_uuid": "a9bc09026fa2ecb69506f1ba48addebcec175ec3"
      },
      "cell_type": "code",
      "source": "x = data['price']>10\ndata[x]",
      "execution_count": null,
      "outputs": []
    },
    {
      "metadata": {
        "trusted": true,
        "_uuid": "ba590fb1123b89064af857de7864f7f23517246a"
      },
      "cell_type": "code",
      "source": "data[np.logical_and(data['price']>10, data['user_rating']>4)]",
      "execution_count": null,
      "outputs": []
    },
    {
      "metadata": {
        "trusted": true,
        "_uuid": "c95bdb3f500b5195c140cfe538e4dd9f82e09637"
      },
      "cell_type": "code",
      "source": "data[(data['price']>20) & (data['user_rating']>4)]",
      "execution_count": null,
      "outputs": []
    },
    {
      "metadata": {
        "_uuid": "580fbb4ac433e0309002065082f7330979a02259"
      },
      "cell_type": "markdown",
      "source": "LOOPS"
    },
    {
      "metadata": {
        "trusted": true,
        "_uuid": "16aa4868574b17bd806bbbf5f30ec632cf425316"
      },
      "cell_type": "code",
      "source": "\nlist = [1,2,3,4,5]\nfor i in list:\n    print('i is: ',i)\nprint('')\n\nfor index, value in enumerate(list):\n    print(index,\" : \",value)\nprint('')   \n\ndicts = {'turkey':'rize','rize':'iyidere'}\nfor key,value in dicts.items():\n    print(key,\" : \",value)\nprint('')\n\nfor index,value in data[['price']][0:1].iterrows():\n    print(index,\" : \",value)",
      "execution_count": null,
      "outputs": []
    }
  ],
  "metadata": {
    "kernelspec": {
      "display_name": "Python 3",
      "language": "python",
      "name": "python3"
    },
    "language_info": {
      "name": "python",
      "version": "3.6.6",
      "mimetype": "text/x-python",
      "codemirror_mode": {
        "name": "ipython",
        "version": 3
      },
      "pygments_lexer": "ipython3",
      "nbconvert_exporter": "python",
      "file_extension": ".py"
    }
  },
  "nbformat": 4,
  "nbformat_minor": 1
}