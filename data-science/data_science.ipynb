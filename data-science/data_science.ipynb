{
  "cells": [
    {
      "metadata": {
        "_uuid": "8f2839f25d086af736a60e9eeb907d3b93b6e0e5",
        "_cell_guid": "b1076dfc-b9ad-4769-8c92-a6c4dae69d19",
        "trusted": true
      },
      "cell_type": "code",
      "source": "# This Python 3 environment comes with many helpful analytics libraries installed\n# It is defined by the kaggle/python docker image: https://github.com/kaggle/docker-python\n# For example, here's several helpful packages to load in \n\nimport numpy as np # linear algebra\nimport pandas as pd # data processing, CSV file I/O (e.g. pd.read_csv)\nimport matplotlib.pyplot as plt\nimport seaborn as sns\n\n# Input data files are available in the \"../input/\" directory.\n# For example, running this (by clicking run or pressing Shift+Enter) will list the files in the input directory\n\nimport os\nprint(os.listdir(\"../input\"))\n\n# Any results you write to the current directory are saved as output.",
      "execution_count": 1,
      "outputs": [
        {
          "output_type": "stream",
          "text": "['combats.csv', 'pokemon.csv', 'tests.csv']\n",
          "name": "stdout"
        }
      ]
    },
    {
      "metadata": {
        "_cell_guid": "79c7e3d0-c299-4dcb-8224-4455121ee9b0",
        "_uuid": "d629ff2d2480ee46fbb7e2d37f6b5fab8052498a",
        "trusted": true,
        "collapsed": true
      },
      "cell_type": "code",
      "source": "data = pd.read_csv('../input/pokemon.csv')",
      "execution_count": 8,
      "outputs": []
    },
    {
      "metadata": {
        "_uuid": "bf6ec4d2c43c7fdce443ac6b29d121e2714736da"
      },
      "cell_type": "markdown",
      "source": "User Defined Function \n\n"
    },
    {
      "metadata": {
        "trusted": true,
        "_uuid": "7436d461af22e712de6f66aba7877ca1cc2c858a"
      },
      "cell_type": "code",
      "source": "def tuble_ex():\n    t=(1,2,3)\n    return t\na,b,c =tuble_ex()\nprint(a,b,c)",
      "execution_count": 47,
      "outputs": [
        {
          "output_type": "stream",
          "text": "1 2 3\n",
          "name": "stdout"
        }
      ]
    },
    {
      "metadata": {
        "_uuid": "b8fa85a62093e8b72f9e338593f4972d68d5effd"
      },
      "cell_type": "markdown",
      "source": "# Scope"
    },
    {
      "metadata": {
        "trusted": true,
        "_uuid": "a7eb0321385f8d2b14fe6ebb664a1c5bcf7e98c2"
      },
      "cell_type": "code",
      "source": "x=2\ndef f():\n    x=3\n    return x\nprint(x)  # global scope\nprint(f()) # local scope",
      "execution_count": 48,
      "outputs": [
        {
          "output_type": "stream",
          "text": "2\n3\n",
          "name": "stdout"
        }
      ]
    },
    {
      "metadata": {
        "trusted": true,
        "_uuid": "b4cb11837bd9975929344095a881051873a22b5d"
      },
      "cell_type": "code",
      "source": "x = 5\ndef f():\n    y = 2*x\n    return y\nprint(f())",
      "execution_count": 49,
      "outputs": [
        {
          "output_type": "stream",
          "text": "10\n",
          "name": "stdout"
        }
      ]
    },
    {
      "metadata": {
        "trusted": true,
        "_uuid": "5555bc2e6430394ccd757364cda2560b0a43412c"
      },
      "cell_type": "code",
      "source": "import builtins\ndir(builtins)",
      "execution_count": 50,
      "outputs": [
        {
          "output_type": "execute_result",
          "execution_count": 50,
          "data": {
            "text/plain": "['ArithmeticError',\n 'AssertionError',\n 'AttributeError',\n 'BaseException',\n 'BlockingIOError',\n 'BrokenPipeError',\n 'BufferError',\n 'BytesWarning',\n 'ChildProcessError',\n 'ConnectionAbortedError',\n 'ConnectionError',\n 'ConnectionRefusedError',\n 'ConnectionResetError',\n 'DeprecationWarning',\n 'EOFError',\n 'Ellipsis',\n 'EnvironmentError',\n 'Exception',\n 'False',\n 'FileExistsError',\n 'FileNotFoundError',\n 'FloatingPointError',\n 'FutureWarning',\n 'GeneratorExit',\n 'IOError',\n 'ImportError',\n 'ImportWarning',\n 'IndentationError',\n 'IndexError',\n 'InterruptedError',\n 'IsADirectoryError',\n 'KeyError',\n 'KeyboardInterrupt',\n 'LookupError',\n 'MemoryError',\n 'ModuleNotFoundError',\n 'NameError',\n 'None',\n 'NotADirectoryError',\n 'NotImplemented',\n 'NotImplementedError',\n 'OSError',\n 'OverflowError',\n 'PendingDeprecationWarning',\n 'PermissionError',\n 'ProcessLookupError',\n 'RecursionError',\n 'ReferenceError',\n 'ResourceWarning',\n 'RuntimeError',\n 'RuntimeWarning',\n 'StopAsyncIteration',\n 'StopIteration',\n 'SyntaxError',\n 'SyntaxWarning',\n 'SystemError',\n 'SystemExit',\n 'TabError',\n 'TimeoutError',\n 'True',\n 'TypeError',\n 'UnboundLocalError',\n 'UnicodeDecodeError',\n 'UnicodeEncodeError',\n 'UnicodeError',\n 'UnicodeTranslateError',\n 'UnicodeWarning',\n 'UserWarning',\n 'ValueError',\n 'Warning',\n 'ZeroDivisionError',\n '__IPYTHON__',\n '__build_class__',\n '__debug__',\n '__doc__',\n '__import__',\n '__loader__',\n '__name__',\n '__package__',\n '__pybind11_internals_v1__',\n '__spec__',\n 'abs',\n 'all',\n 'any',\n 'ascii',\n 'bin',\n 'bool',\n 'bytearray',\n 'bytes',\n 'callable',\n 'chr',\n 'classmethod',\n 'compile',\n 'complex',\n 'copyright',\n 'credits',\n 'delattr',\n 'dict',\n 'dir',\n 'display',\n 'divmod',\n 'enumerate',\n 'eval',\n 'exec',\n 'filter',\n 'float',\n 'format',\n 'frozenset',\n 'get_ipython',\n 'getattr',\n 'globals',\n 'hasattr',\n 'hash',\n 'help',\n 'hex',\n 'id',\n 'input',\n 'int',\n 'isinstance',\n 'issubclass',\n 'iter',\n 'len',\n 'license',\n 'list',\n 'locals',\n 'map',\n 'max',\n 'memoryview',\n 'min',\n 'next',\n 'object',\n 'oct',\n 'open',\n 'ord',\n 'pow',\n 'print',\n 'property',\n 'range',\n 'repr',\n 'reversed',\n 'round',\n 'set',\n 'setattr',\n 'slice',\n 'sorted',\n 'staticmethod',\n 'str',\n 'sum',\n 'super',\n 'tuple',\n 'type',\n 'vars',\n 'zip']"
          },
          "metadata": {}
        }
      ]
    },
    {
      "metadata": {
        "_uuid": "2c7ba4f84e0d60a6f1d77fb897add3c667c2cc40"
      },
      "cell_type": "markdown",
      "source": "# Nested Function"
    },
    {
      "metadata": {
        "trusted": true,
        "_uuid": "9ad0bf184118ac7285c2630982d62d38665a3af4"
      },
      "cell_type": "code",
      "source": "def square():\n    def add():\n        x=2\n        y=3\n        z=x+y\n        return z\n    return add()**2\nprint(square())",
      "execution_count": 51,
      "outputs": [
        {
          "output_type": "stream",
          "text": "25\n",
          "name": "stdout"
        }
      ]
    },
    {
      "metadata": {
        "_uuid": "b1edb05af602d892fda71cab813e321d26fd919b"
      },
      "cell_type": "markdown",
      "source": "## DEFAULT and FLEXIBLE ARGUMENTS"
    },
    {
      "metadata": {
        "trusted": true,
        "_uuid": "327479c31a9724b74f6e0c7f5bfc3d8b07a2f382"
      },
      "cell_type": "code",
      "source": "def f(a,b=1, c=2):\n    y= a+b+c\n    return y\nprint(f(5))\nprint(f(5,4,3))",
      "execution_count": 52,
      "outputs": [
        {
          "output_type": "stream",
          "text": "8\n12\n",
          "name": "stdout"
        }
      ]
    },
    {
      "metadata": {
        "trusted": true,
        "_uuid": "de53f91b4dd1f0137c507084d36e80491fbd6104"
      },
      "cell_type": "code",
      "source": "def f(*args):\n    for i in args:\n        print(i)\nf(1)\nprint(\"\")\nf(1,2,3,4)\n\ndef f(**kwargs):\n    for key,value in kwargs.items():\n        print(key,\" \",value)\nf(country = 'spain',capital='madrid',pupulation=123456)",
      "execution_count": 53,
      "outputs": [
        {
          "output_type": "stream",
          "text": "1\n\n1\n2\n3\n4\ncountry   spain\ncapital   madrid\npupulation   123456\n",
          "name": "stdout"
        }
      ]
    },
    {
      "metadata": {
        "_uuid": "b216778162ca1ef8bf1b8536408cc4550700754e"
      },
      "cell_type": "markdown",
      "source": "## anonymous function"
    },
    {
      "metadata": {
        "trusted": true,
        "_uuid": "58fad5540e1b375898ba576051e586cbbda35fae"
      },
      "cell_type": "code",
      "source": "number_list = [1,2,3]\ny= map(lambda x:x**2, number_list)\nprint(list(y))",
      "execution_count": 54,
      "outputs": [
        {
          "output_type": "stream",
          "text": "[1, 4, 9]\n",
          "name": "stdout"
        }
      ]
    },
    {
      "metadata": {
        "_uuid": "932dbcab6365b3e7b71cea2cdcd96f601586f3a1"
      },
      "cell_type": "markdown",
      "source": "## ITERATORS"
    },
    {
      "metadata": {
        "trusted": true,
        "_uuid": "7c31fdaca43e94257b1949c2b0c2d82b00aeab04"
      },
      "cell_type": "code",
      "source": "name = 'ronaldo'\nit = iter(name)\nprint(next(it))\nprint(*it)",
      "execution_count": 55,
      "outputs": [
        {
          "output_type": "stream",
          "text": "r\no n a l d o\n",
          "name": "stdout"
        }
      ]
    },
    {
      "metadata": {
        "trusted": true,
        "_uuid": "546ebe5e4cf9243c2da9f1a52e9a2060025ab145"
      },
      "cell_type": "code",
      "source": "list1 = [1,2,3,4]\nlist2 = [5,6,7,8]\nz = zip(list1,list2)\nprint(z)\nz_list=list(z)\nprint(z_list)",
      "execution_count": 56,
      "outputs": [
        {
          "output_type": "stream",
          "text": "<zip object at 0x7f5c986b8108>\n[(1, 5), (2, 6), (3, 7), (4, 8)]\n",
          "name": "stdout"
        }
      ]
    },
    {
      "metadata": {
        "trusted": true,
        "_uuid": "99379a193a70e05988569d737b3b11571aa98dd8"
      },
      "cell_type": "code",
      "source": "un_zip =zip(*z_list)\nun_list1,un_list2 = list(un_zip)\nprint(un_list1)\nprint(un_list2)\nprint(type(un_list1))\nprint(type(list(un_list1)))",
      "execution_count": 57,
      "outputs": [
        {
          "output_type": "stream",
          "text": "(1, 2, 3, 4)\n(5, 6, 7, 8)\n<class 'tuple'>\n<class 'list'>\n",
          "name": "stdout"
        }
      ]
    },
    {
      "metadata": {
        "_uuid": "dde712c64205fff9aaef3de64fcc76ceb35655aa"
      },
      "cell_type": "markdown",
      "source": "## List comprehension"
    },
    {
      "metadata": {
        "trusted": true,
        "_uuid": "e6f596286c8c2abcea0c958ac5ace6c9fb137143"
      },
      "cell_type": "code",
      "source": "num1 = [1,2,3]\nnum2 = [i + 1 for i in num1]\nprint(num2)",
      "execution_count": 58,
      "outputs": [
        {
          "output_type": "stream",
          "text": "[2, 3, 4]\n",
          "name": "stdout"
        }
      ]
    },
    {
      "metadata": {
        "trusted": true,
        "_uuid": "a60de669b36643e06c313d00e39c547bfedbefdc"
      },
      "cell_type": "code",
      "source": "num1 = [5,10,15]\nnum2 = [i**2 if i ==10 else i-5 if i<7 else i+5 for i in num1]\nprint(num2)",
      "execution_count": 59,
      "outputs": [
        {
          "output_type": "stream",
          "text": "[0, 100, 20]\n",
          "name": "stdout"
        }
      ]
    },
    {
      "metadata": {
        "trusted": true,
        "_uuid": "5cd5f8eb0f2469232c711dd5acfd14ce4323e4dd"
      },
      "cell_type": "code",
      "source": "threshold = sum(data.Speed)/len(data.Speed)\nprint(\"treshold\",threshold)\ndata['speed_level'] = [\"high\" if i > threshold else \"low\" for i in data.Speed]\ndata.loc[:10,[\"speed_level\",\"Speed\"]]",
      "execution_count": 60,
      "outputs": [
        {
          "output_type": "stream",
          "text": "treshold 68.2775\n",
          "name": "stdout"
        },
        {
          "output_type": "execute_result",
          "execution_count": 60,
          "data": {
            "text/plain": "           speed_level  Speed\nindex_name                   \n1                  low     45\n2                  low     60\n3                 high     80\n4                 high     80\n5                  low     65\n6                 high     80\n7                 high    100\n8                 high    100\n9                 high    100\n10                 low     43",
            "text/html": "<div>\n<style scoped>\n    .dataframe tbody tr th:only-of-type {\n        vertical-align: middle;\n    }\n\n    .dataframe tbody tr th {\n        vertical-align: top;\n    }\n\n    .dataframe thead th {\n        text-align: right;\n    }\n</style>\n<table border=\"1\" class=\"dataframe\">\n  <thead>\n    <tr style=\"text-align: right;\">\n      <th></th>\n      <th>speed_level</th>\n      <th>Speed</th>\n    </tr>\n    <tr>\n      <th>index_name</th>\n      <th></th>\n      <th></th>\n    </tr>\n  </thead>\n  <tbody>\n    <tr>\n      <th>1</th>\n      <td>low</td>\n      <td>45</td>\n    </tr>\n    <tr>\n      <th>2</th>\n      <td>low</td>\n      <td>60</td>\n    </tr>\n    <tr>\n      <th>3</th>\n      <td>high</td>\n      <td>80</td>\n    </tr>\n    <tr>\n      <th>4</th>\n      <td>high</td>\n      <td>80</td>\n    </tr>\n    <tr>\n      <th>5</th>\n      <td>low</td>\n      <td>65</td>\n    </tr>\n    <tr>\n      <th>6</th>\n      <td>high</td>\n      <td>80</td>\n    </tr>\n    <tr>\n      <th>7</th>\n      <td>high</td>\n      <td>100</td>\n    </tr>\n    <tr>\n      <th>8</th>\n      <td>high</td>\n      <td>100</td>\n    </tr>\n    <tr>\n      <th>9</th>\n      <td>high</td>\n      <td>100</td>\n    </tr>\n    <tr>\n      <th>10</th>\n      <td>low</td>\n      <td>43</td>\n    </tr>\n  </tbody>\n</table>\n</div>"
          },
          "metadata": {}
        }
      ]
    },
    {
      "metadata": {
        "trusted": true,
        "collapsed": true,
        "_uuid": "79973cf6de4e3a261e9fd8b30fa2aeda91d8365e"
      },
      "cell_type": "markdown",
      "source": "## Cleaning Data"
    },
    {
      "metadata": {
        "trusted": true,
        "_uuid": "519e63ca0af2bff4a4a02f658951f68013e6cd9f"
      },
      "cell_type": "code",
      "source": "data.head()",
      "execution_count": 61,
      "outputs": [
        {
          "output_type": "execute_result",
          "execution_count": 61,
          "data": {
            "text/plain": "                     Name Type 1     ...      total_power  speed_level\nindex_name                           ...                              \n1               Bulbasaur  Grass     ...               98          low\n2                 Ivysaur  Grass     ...              125          low\n3                Venusaur  Grass     ...              165         high\n4           Mega Venusaur  Grass     ...              223         high\n5              Charmander   Fire     ...               95          low\n\n[5 rows x 13 columns]",
            "text/html": "<div>\n<style scoped>\n    .dataframe tbody tr th:only-of-type {\n        vertical-align: middle;\n    }\n\n    .dataframe tbody tr th {\n        vertical-align: top;\n    }\n\n    .dataframe thead th {\n        text-align: right;\n    }\n</style>\n<table border=\"1\" class=\"dataframe\">\n  <thead>\n    <tr style=\"text-align: right;\">\n      <th></th>\n      <th>Name</th>\n      <th>Type 1</th>\n      <th>Type 2</th>\n      <th>HP</th>\n      <th>Attack</th>\n      <th>Defense</th>\n      <th>Sp. Atk</th>\n      <th>Sp. Def</th>\n      <th>Speed</th>\n      <th>Generation</th>\n      <th>Legendary</th>\n      <th>total_power</th>\n      <th>speed_level</th>\n    </tr>\n    <tr>\n      <th>index_name</th>\n      <th></th>\n      <th></th>\n      <th></th>\n      <th></th>\n      <th></th>\n      <th></th>\n      <th></th>\n      <th></th>\n      <th></th>\n      <th></th>\n      <th></th>\n      <th></th>\n      <th></th>\n    </tr>\n  </thead>\n  <tbody>\n    <tr>\n      <th>1</th>\n      <td>Bulbasaur</td>\n      <td>Grass</td>\n      <td>Poison</td>\n      <td>45</td>\n      <td>49</td>\n      <td>49</td>\n      <td>65</td>\n      <td>65</td>\n      <td>45</td>\n      <td>1</td>\n      <td>False</td>\n      <td>98</td>\n      <td>low</td>\n    </tr>\n    <tr>\n      <th>2</th>\n      <td>Ivysaur</td>\n      <td>Grass</td>\n      <td>Poison</td>\n      <td>60</td>\n      <td>62</td>\n      <td>63</td>\n      <td>80</td>\n      <td>80</td>\n      <td>60</td>\n      <td>1</td>\n      <td>False</td>\n      <td>125</td>\n      <td>low</td>\n    </tr>\n    <tr>\n      <th>3</th>\n      <td>Venusaur</td>\n      <td>Grass</td>\n      <td>Poison</td>\n      <td>80</td>\n      <td>82</td>\n      <td>83</td>\n      <td>100</td>\n      <td>100</td>\n      <td>80</td>\n      <td>1</td>\n      <td>False</td>\n      <td>165</td>\n      <td>high</td>\n    </tr>\n    <tr>\n      <th>4</th>\n      <td>Mega Venusaur</td>\n      <td>Grass</td>\n      <td>Poison</td>\n      <td>80</td>\n      <td>100</td>\n      <td>123</td>\n      <td>122</td>\n      <td>120</td>\n      <td>80</td>\n      <td>1</td>\n      <td>False</td>\n      <td>223</td>\n      <td>high</td>\n    </tr>\n    <tr>\n      <th>5</th>\n      <td>Charmander</td>\n      <td>Fire</td>\n      <td>NaN</td>\n      <td>39</td>\n      <td>52</td>\n      <td>43</td>\n      <td>60</td>\n      <td>50</td>\n      <td>65</td>\n      <td>1</td>\n      <td>False</td>\n      <td>95</td>\n      <td>low</td>\n    </tr>\n  </tbody>\n</table>\n</div>"
          },
          "metadata": {}
        }
      ]
    },
    {
      "metadata": {
        "trusted": true,
        "_uuid": "d7dafc9519d7b9864709c9bd6fca5736eaf07dbc"
      },
      "cell_type": "code",
      "source": "data.tail()",
      "execution_count": 62,
      "outputs": [
        {
          "output_type": "execute_result",
          "execution_count": 62,
          "data": {
            "text/plain": "                      Name   Type 1     ...      total_power  speed_level\nindex_name                              ...                              \n796                Diancie     Rock     ...              250          low\n797           Mega Diancie     Rock     ...              270         high\n798         Hoopa Confined  Psychic     ...              170         high\n799          Hoopa Unbound  Psychic     ...              220         high\n800              Volcanion     Fire     ...              230         high\n\n[5 rows x 13 columns]",
            "text/html": "<div>\n<style scoped>\n    .dataframe tbody tr th:only-of-type {\n        vertical-align: middle;\n    }\n\n    .dataframe tbody tr th {\n        vertical-align: top;\n    }\n\n    .dataframe thead th {\n        text-align: right;\n    }\n</style>\n<table border=\"1\" class=\"dataframe\">\n  <thead>\n    <tr style=\"text-align: right;\">\n      <th></th>\n      <th>Name</th>\n      <th>Type 1</th>\n      <th>Type 2</th>\n      <th>HP</th>\n      <th>Attack</th>\n      <th>Defense</th>\n      <th>Sp. Atk</th>\n      <th>Sp. Def</th>\n      <th>Speed</th>\n      <th>Generation</th>\n      <th>Legendary</th>\n      <th>total_power</th>\n      <th>speed_level</th>\n    </tr>\n    <tr>\n      <th>index_name</th>\n      <th></th>\n      <th></th>\n      <th></th>\n      <th></th>\n      <th></th>\n      <th></th>\n      <th></th>\n      <th></th>\n      <th></th>\n      <th></th>\n      <th></th>\n      <th></th>\n      <th></th>\n    </tr>\n  </thead>\n  <tbody>\n    <tr>\n      <th>796</th>\n      <td>Diancie</td>\n      <td>Rock</td>\n      <td>Fairy</td>\n      <td>50</td>\n      <td>100</td>\n      <td>150</td>\n      <td>100</td>\n      <td>150</td>\n      <td>50</td>\n      <td>6</td>\n      <td>True</td>\n      <td>250</td>\n      <td>low</td>\n    </tr>\n    <tr>\n      <th>797</th>\n      <td>Mega Diancie</td>\n      <td>Rock</td>\n      <td>Fairy</td>\n      <td>50</td>\n      <td>160</td>\n      <td>110</td>\n      <td>160</td>\n      <td>110</td>\n      <td>110</td>\n      <td>6</td>\n      <td>True</td>\n      <td>270</td>\n      <td>high</td>\n    </tr>\n    <tr>\n      <th>798</th>\n      <td>Hoopa Confined</td>\n      <td>Psychic</td>\n      <td>Ghost</td>\n      <td>80</td>\n      <td>110</td>\n      <td>60</td>\n      <td>150</td>\n      <td>130</td>\n      <td>70</td>\n      <td>6</td>\n      <td>True</td>\n      <td>170</td>\n      <td>high</td>\n    </tr>\n    <tr>\n      <th>799</th>\n      <td>Hoopa Unbound</td>\n      <td>Psychic</td>\n      <td>Dark</td>\n      <td>80</td>\n      <td>160</td>\n      <td>60</td>\n      <td>170</td>\n      <td>130</td>\n      <td>80</td>\n      <td>6</td>\n      <td>True</td>\n      <td>220</td>\n      <td>high</td>\n    </tr>\n    <tr>\n      <th>800</th>\n      <td>Volcanion</td>\n      <td>Fire</td>\n      <td>Water</td>\n      <td>80</td>\n      <td>110</td>\n      <td>120</td>\n      <td>130</td>\n      <td>90</td>\n      <td>70</td>\n      <td>6</td>\n      <td>True</td>\n      <td>230</td>\n      <td>high</td>\n    </tr>\n  </tbody>\n</table>\n</div>"
          },
          "metadata": {}
        }
      ]
    },
    {
      "metadata": {
        "trusted": true,
        "_uuid": "3a62b4d1d6d95a338f15d806a09f70b7159832fc"
      },
      "cell_type": "code",
      "source": "data.columns",
      "execution_count": 63,
      "outputs": [
        {
          "output_type": "execute_result",
          "execution_count": 63,
          "data": {
            "text/plain": "Index(['Name', 'Type 1', 'Type 2', 'HP', 'Attack', 'Defense', 'Sp. Atk',\n       'Sp. Def', 'Speed', 'Generation', 'Legendary', 'total_power',\n       'speed_level'],\n      dtype='object')"
          },
          "metadata": {}
        }
      ]
    },
    {
      "metadata": {
        "trusted": true,
        "_uuid": "db9600a3b0646d6fad8895978fb7caccf455767f"
      },
      "cell_type": "code",
      "source": "data.shape",
      "execution_count": 64,
      "outputs": [
        {
          "output_type": "execute_result",
          "execution_count": 64,
          "data": {
            "text/plain": "(800, 13)"
          },
          "metadata": {}
        }
      ]
    },
    {
      "metadata": {
        "trusted": true,
        "_uuid": "bf5a0d5c5eec5036050373ad298d0266687126d3"
      },
      "cell_type": "code",
      "source": "data.info()",
      "execution_count": 65,
      "outputs": [
        {
          "output_type": "stream",
          "text": "<class 'pandas.core.frame.DataFrame'>\nInt64Index: 800 entries, 1 to 800\nData columns (total 13 columns):\nName           799 non-null object\nType 1         800 non-null object\nType 2         414 non-null object\nHP             800 non-null int64\nAttack         800 non-null int64\nDefense        800 non-null int64\nSp. Atk        800 non-null int64\nSp. Def        800 non-null int64\nSpeed          800 non-null int64\nGeneration     800 non-null int64\nLegendary      800 non-null bool\ntotal_power    800 non-null int64\nspeed_level    800 non-null object\ndtypes: bool(1), int64(8), object(4)\nmemory usage: 122.0+ KB\n",
          "name": "stdout"
        }
      ]
    },
    {
      "metadata": {
        "_uuid": "f97caf85de8ce81489c528b7d6b6b511c3456ae3"
      },
      "cell_type": "markdown",
      "source": "## Explotary data analysis(Eda)"
    },
    {
      "metadata": {
        "trusted": true,
        "_uuid": "a167c93456ced1d57e1e5eed3322a5e067a54c0d"
      },
      "cell_type": "code",
      "source": "print(data['Type 1'].value_counts(dropna = False))",
      "execution_count": 66,
      "outputs": [
        {
          "output_type": "stream",
          "text": "Water       112\nNormal       98\nGrass        70\nBug          69\nPsychic      57\nFire         52\nElectric     44\nRock         44\nGround       32\nDragon       32\nGhost        32\nDark         31\nPoison       28\nSteel        27\nFighting     27\nIce          24\nFairy        17\nFlying        4\nName: Type 1, dtype: int64\n",
          "name": "stdout"
        }
      ]
    },
    {
      "metadata": {
        "trusted": true,
        "_uuid": "b47afb946e09d405401e2f09a2f34b158d424754"
      },
      "cell_type": "code",
      "source": "data.describe()",
      "execution_count": 67,
      "outputs": [
        {
          "output_type": "execute_result",
          "execution_count": 67,
          "data": {
            "text/plain": "               HP      Attack     ...       Generation  total_power\ncount  800.000000  800.000000     ...        800.00000   800.000000\nmean    69.258750   79.001250     ...          3.32375   152.843750\nstd     25.534669   32.457366     ...          1.66129    53.980661\nmin      1.000000    5.000000     ...          1.00000    10.000000\n25%     50.000000   55.000000     ...          2.00000   112.000000\n50%     65.000000   75.000000     ...          3.00000   150.000000\n75%     80.000000  100.000000     ...          5.00000   188.250000\nmax    255.000000  190.000000     ...          6.00000   370.000000\n\n[8 rows x 8 columns]",
            "text/html": "<div>\n<style scoped>\n    .dataframe tbody tr th:only-of-type {\n        vertical-align: middle;\n    }\n\n    .dataframe tbody tr th {\n        vertical-align: top;\n    }\n\n    .dataframe thead th {\n        text-align: right;\n    }\n</style>\n<table border=\"1\" class=\"dataframe\">\n  <thead>\n    <tr style=\"text-align: right;\">\n      <th></th>\n      <th>HP</th>\n      <th>Attack</th>\n      <th>Defense</th>\n      <th>Sp. Atk</th>\n      <th>Sp. Def</th>\n      <th>Speed</th>\n      <th>Generation</th>\n      <th>total_power</th>\n    </tr>\n  </thead>\n  <tbody>\n    <tr>\n      <th>count</th>\n      <td>800.000000</td>\n      <td>800.000000</td>\n      <td>800.000000</td>\n      <td>800.000000</td>\n      <td>800.000000</td>\n      <td>800.000000</td>\n      <td>800.00000</td>\n      <td>800.000000</td>\n    </tr>\n    <tr>\n      <th>mean</th>\n      <td>69.258750</td>\n      <td>79.001250</td>\n      <td>73.842500</td>\n      <td>72.820000</td>\n      <td>71.902500</td>\n      <td>68.277500</td>\n      <td>3.32375</td>\n      <td>152.843750</td>\n    </tr>\n    <tr>\n      <th>std</th>\n      <td>25.534669</td>\n      <td>32.457366</td>\n      <td>31.183501</td>\n      <td>32.722294</td>\n      <td>27.828916</td>\n      <td>29.060474</td>\n      <td>1.66129</td>\n      <td>53.980661</td>\n    </tr>\n    <tr>\n      <th>min</th>\n      <td>1.000000</td>\n      <td>5.000000</td>\n      <td>5.000000</td>\n      <td>10.000000</td>\n      <td>20.000000</td>\n      <td>5.000000</td>\n      <td>1.00000</td>\n      <td>10.000000</td>\n    </tr>\n    <tr>\n      <th>25%</th>\n      <td>50.000000</td>\n      <td>55.000000</td>\n      <td>50.000000</td>\n      <td>49.750000</td>\n      <td>50.000000</td>\n      <td>45.000000</td>\n      <td>2.00000</td>\n      <td>112.000000</td>\n    </tr>\n    <tr>\n      <th>50%</th>\n      <td>65.000000</td>\n      <td>75.000000</td>\n      <td>70.000000</td>\n      <td>65.000000</td>\n      <td>70.000000</td>\n      <td>65.000000</td>\n      <td>3.00000</td>\n      <td>150.000000</td>\n    </tr>\n    <tr>\n      <th>75%</th>\n      <td>80.000000</td>\n      <td>100.000000</td>\n      <td>90.000000</td>\n      <td>95.000000</td>\n      <td>90.000000</td>\n      <td>90.000000</td>\n      <td>5.00000</td>\n      <td>188.250000</td>\n    </tr>\n    <tr>\n      <th>max</th>\n      <td>255.000000</td>\n      <td>190.000000</td>\n      <td>230.000000</td>\n      <td>194.000000</td>\n      <td>230.000000</td>\n      <td>180.000000</td>\n      <td>6.00000</td>\n      <td>370.000000</td>\n    </tr>\n  </tbody>\n</table>\n</div>"
          },
          "metadata": {}
        }
      ]
    },
    {
      "metadata": {
        "trusted": true,
        "_uuid": "2d78e06ce5fe2956ecb49acc37165f106941bd83"
      },
      "cell_type": "code",
      "source": "data.boxplot(column='Attack',by ='Legendary')\nplt.show()",
      "execution_count": 68,
      "outputs": [
        {
          "output_type": "display_data",
          "data": {
            "text/plain": "<matplotlib.figure.Figure at 0x7f5c88f457b8>",
            "image/png": "[encoded data removed]"
          },
          "metadata": {}
        }
      ]
    },
    {
      "metadata": {
        "_uuid": "42ef45b2bafde7b3c34250ce12cfc327989c69b5"
      },
      "cell_type": "markdown",
      "source": "## Tidy data"
    },
    {
      "metadata": {
        "trusted": true,
        "_uuid": "f60407301a324e6ec6f2eaaf382b999c63f9d428"
      },
      "cell_type": "code",
      "source": "data_new = data.head()\ndata_new",
      "execution_count": 69,
      "outputs": [
        {
          "output_type": "execute_result",
          "execution_count": 69,
          "data": {
            "text/plain": "                     Name Type 1     ...      total_power  speed_level\nindex_name                           ...                              \n1               Bulbasaur  Grass     ...               98          low\n2                 Ivysaur  Grass     ...              125          low\n3                Venusaur  Grass     ...              165         high\n4           Mega Venusaur  Grass     ...              223         high\n5              Charmander   Fire     ...               95          low\n\n[5 rows x 13 columns]",
            "text/html": "<div>\n<style scoped>\n    .dataframe tbody tr th:only-of-type {\n        vertical-align: middle;\n    }\n\n    .dataframe tbody tr th {\n        vertical-align: top;\n    }\n\n    .dataframe thead th {\n        text-align: right;\n    }\n</style>\n<table border=\"1\" class=\"dataframe\">\n  <thead>\n    <tr style=\"text-align: right;\">\n      <th></th>\n      <th>Name</th>\n      <th>Type 1</th>\n      <th>Type 2</th>\n      <th>HP</th>\n      <th>Attack</th>\n      <th>Defense</th>\n      <th>Sp. Atk</th>\n      <th>Sp. Def</th>\n      <th>Speed</th>\n      <th>Generation</th>\n      <th>Legendary</th>\n      <th>total_power</th>\n      <th>speed_level</th>\n    </tr>\n    <tr>\n      <th>index_name</th>\n      <th></th>\n      <th></th>\n      <th></th>\n      <th></th>\n      <th></th>\n      <th></th>\n      <th></th>\n      <th></th>\n      <th></th>\n      <th></th>\n      <th></th>\n      <th></th>\n      <th></th>\n    </tr>\n  </thead>\n  <tbody>\n    <tr>\n      <th>1</th>\n      <td>Bulbasaur</td>\n      <td>Grass</td>\n      <td>Poison</td>\n      <td>45</td>\n      <td>49</td>\n      <td>49</td>\n      <td>65</td>\n      <td>65</td>\n      <td>45</td>\n      <td>1</td>\n      <td>False</td>\n      <td>98</td>\n      <td>low</td>\n    </tr>\n    <tr>\n      <th>2</th>\n      <td>Ivysaur</td>\n      <td>Grass</td>\n      <td>Poison</td>\n      <td>60</td>\n      <td>62</td>\n      <td>63</td>\n      <td>80</td>\n      <td>80</td>\n      <td>60</td>\n      <td>1</td>\n      <td>False</td>\n      <td>125</td>\n      <td>low</td>\n    </tr>\n    <tr>\n      <th>3</th>\n      <td>Venusaur</td>\n      <td>Grass</td>\n      <td>Poison</td>\n      <td>80</td>\n      <td>82</td>\n      <td>83</td>\n      <td>100</td>\n      <td>100</td>\n      <td>80</td>\n      <td>1</td>\n      <td>False</td>\n      <td>165</td>\n      <td>high</td>\n    </tr>\n    <tr>\n      <th>4</th>\n      <td>Mega Venusaur</td>\n      <td>Grass</td>\n      <td>Poison</td>\n      <td>80</td>\n      <td>100</td>\n      <td>123</td>\n      <td>122</td>\n      <td>120</td>\n      <td>80</td>\n      <td>1</td>\n      <td>False</td>\n      <td>223</td>\n      <td>high</td>\n    </tr>\n    <tr>\n      <th>5</th>\n      <td>Charmander</td>\n      <td>Fire</td>\n      <td>NaN</td>\n      <td>39</td>\n      <td>52</td>\n      <td>43</td>\n      <td>60</td>\n      <td>50</td>\n      <td>65</td>\n      <td>1</td>\n      <td>False</td>\n      <td>95</td>\n      <td>low</td>\n    </tr>\n  </tbody>\n</table>\n</div>"
          },
          "metadata": {}
        }
      ]
    },
    {
      "metadata": {
        "trusted": true,
        "_uuid": "0f292e78088916dcbb35faf3d1cc5da2c35f7892"
      },
      "cell_type": "code",
      "source": "melted = pd.melt(frame = data_new,id_vars = 'Name',value_vars = ['Attack','Defense'])\nmelted #default olarak variable ve value değerleri gelir",
      "execution_count": 70,
      "outputs": [
        {
          "output_type": "execute_result",
          "execution_count": 70,
          "data": {
            "text/plain": "            Name variable  value\n0      Bulbasaur   Attack     49\n1        Ivysaur   Attack     62\n2       Venusaur   Attack     82\n3  Mega Venusaur   Attack    100\n4     Charmander   Attack     52\n5      Bulbasaur  Defense     49\n6        Ivysaur  Defense     63\n7       Venusaur  Defense     83\n8  Mega Venusaur  Defense    123\n9     Charmander  Defense     43",
            "text/html": "<div>\n<style scoped>\n    .dataframe tbody tr th:only-of-type {\n        vertical-align: middle;\n    }\n\n    .dataframe tbody tr th {\n        vertical-align: top;\n    }\n\n    .dataframe thead th {\n        text-align: right;\n    }\n</style>\n<table border=\"1\" class=\"dataframe\">\n  <thead>\n    <tr style=\"text-align: right;\">\n      <th></th>\n      <th>Name</th>\n      <th>variable</th>\n      <th>value</th>\n    </tr>\n  </thead>\n  <tbody>\n    <tr>\n      <th>0</th>\n      <td>Bulbasaur</td>\n      <td>Attack</td>\n      <td>49</td>\n    </tr>\n    <tr>\n      <th>1</th>\n      <td>Ivysaur</td>\n      <td>Attack</td>\n      <td>62</td>\n    </tr>\n    <tr>\n      <th>2</th>\n      <td>Venusaur</td>\n      <td>Attack</td>\n      <td>82</td>\n    </tr>\n    <tr>\n      <th>3</th>\n      <td>Mega Venusaur</td>\n      <td>Attack</td>\n      <td>100</td>\n    </tr>\n    <tr>\n      <th>4</th>\n      <td>Charmander</td>\n      <td>Attack</td>\n      <td>52</td>\n    </tr>\n    <tr>\n      <th>5</th>\n      <td>Bulbasaur</td>\n      <td>Defense</td>\n      <td>49</td>\n    </tr>\n    <tr>\n      <th>6</th>\n      <td>Ivysaur</td>\n      <td>Defense</td>\n      <td>63</td>\n    </tr>\n    <tr>\n      <th>7</th>\n      <td>Venusaur</td>\n      <td>Defense</td>\n      <td>83</td>\n    </tr>\n    <tr>\n      <th>8</th>\n      <td>Mega Venusaur</td>\n      <td>Defense</td>\n      <td>123</td>\n    </tr>\n    <tr>\n      <th>9</th>\n      <td>Charmander</td>\n      <td>Defense</td>\n      <td>43</td>\n    </tr>\n  </tbody>\n</table>\n</div>"
          },
          "metadata": {}
        }
      ]
    },
    {
      "metadata": {
        "trusted": true,
        "_uuid": "6dd7b7a0ab54ac7f23106ec3e87010849e352e15"
      },
      "cell_type": "code",
      "source": "melted.pivot(index = 'Name',columns ='variable',values='value')",
      "execution_count": 71,
      "outputs": [
        {
          "output_type": "execute_result",
          "execution_count": 71,
          "data": {
            "text/plain": "variable       Attack  Defense\nName                          \nBulbasaur          49       49\nCharmander         52       43\nIvysaur            62       63\nMega Venusaur     100      123\nVenusaur           82       83",
            "text/html": "<div>\n<style scoped>\n    .dataframe tbody tr th:only-of-type {\n        vertical-align: middle;\n    }\n\n    .dataframe tbody tr th {\n        vertical-align: top;\n    }\n\n    .dataframe thead th {\n        text-align: right;\n    }\n</style>\n<table border=\"1\" class=\"dataframe\">\n  <thead>\n    <tr style=\"text-align: right;\">\n      <th>variable</th>\n      <th>Attack</th>\n      <th>Defense</th>\n    </tr>\n    <tr>\n      <th>Name</th>\n      <th></th>\n      <th></th>\n    </tr>\n  </thead>\n  <tbody>\n    <tr>\n      <th>Bulbasaur</th>\n      <td>49</td>\n      <td>49</td>\n    </tr>\n    <tr>\n      <th>Charmander</th>\n      <td>52</td>\n      <td>43</td>\n    </tr>\n    <tr>\n      <th>Ivysaur</th>\n      <td>62</td>\n      <td>63</td>\n    </tr>\n    <tr>\n      <th>Mega Venusaur</th>\n      <td>100</td>\n      <td>123</td>\n    </tr>\n    <tr>\n      <th>Venusaur</th>\n      <td>82</td>\n      <td>83</td>\n    </tr>\n  </tbody>\n</table>\n</div>"
          },
          "metadata": {}
        }
      ]
    },
    {
      "metadata": {
        "trusted": true,
        "_uuid": "d7b866c57e6b28bd365b856729fdae45d6fb75bd"
      },
      "cell_type": "code",
      "source": "data1 = data.head()\ndata2 = data.tail()\nconc_data_row = pd.concat([data1,data2],axis = 0, ignore_index = True) #index sırasında devam eder\nconc_data_row",
      "execution_count": 72,
      "outputs": [
        {
          "output_type": "execute_result",
          "execution_count": 72,
          "data": {
            "text/plain": "             Name   Type 1     ...      total_power  speed_level\n0       Bulbasaur    Grass     ...               98          low\n1         Ivysaur    Grass     ...              125          low\n2        Venusaur    Grass     ...              165         high\n3   Mega Venusaur    Grass     ...              223         high\n4      Charmander     Fire     ...               95          low\n5         Diancie     Rock     ...              250          low\n6    Mega Diancie     Rock     ...              270         high\n7  Hoopa Confined  Psychic     ...              170         high\n8   Hoopa Unbound  Psychic     ...              220         high\n9       Volcanion     Fire     ...              230         high\n\n[10 rows x 13 columns]",
            "text/html": "<div>\n<style scoped>\n    .dataframe tbody tr th:only-of-type {\n        vertical-align: middle;\n    }\n\n    .dataframe tbody tr th {\n        vertical-align: top;\n    }\n\n    .dataframe thead th {\n        text-align: right;\n    }\n</style>\n<table border=\"1\" class=\"dataframe\">\n  <thead>\n    <tr style=\"text-align: right;\">\n      <th></th>\n      <th>Name</th>\n      <th>Type 1</th>\n      <th>Type 2</th>\n      <th>HP</th>\n      <th>Attack</th>\n      <th>Defense</th>\n      <th>Sp. Atk</th>\n      <th>Sp. Def</th>\n      <th>Speed</th>\n      <th>Generation</th>\n      <th>Legendary</th>\n      <th>total_power</th>\n      <th>speed_level</th>\n    </tr>\n  </thead>\n  <tbody>\n    <tr>\n      <th>0</th>\n      <td>Bulbasaur</td>\n      <td>Grass</td>\n      <td>Poison</td>\n      <td>45</td>\n      <td>49</td>\n      <td>49</td>\n      <td>65</td>\n      <td>65</td>\n      <td>45</td>\n      <td>1</td>\n      <td>False</td>\n      <td>98</td>\n      <td>low</td>\n    </tr>\n    <tr>\n      <th>1</th>\n      <td>Ivysaur</td>\n      <td>Grass</td>\n      <td>Poison</td>\n      <td>60</td>\n      <td>62</td>\n      <td>63</td>\n      <td>80</td>\n      <td>80</td>\n      <td>60</td>\n      <td>1</td>\n      <td>False</td>\n      <td>125</td>\n      <td>low</td>\n    </tr>\n    <tr>\n      <th>2</th>\n      <td>Venusaur</td>\n      <td>Grass</td>\n      <td>Poison</td>\n      <td>80</td>\n      <td>82</td>\n      <td>83</td>\n      <td>100</td>\n      <td>100</td>\n      <td>80</td>\n      <td>1</td>\n      <td>False</td>\n      <td>165</td>\n      <td>high</td>\n    </tr>\n    <tr>\n      <th>3</th>\n      <td>Mega Venusaur</td>\n      <td>Grass</td>\n      <td>Poison</td>\n      <td>80</td>\n      <td>100</td>\n      <td>123</td>\n      <td>122</td>\n      <td>120</td>\n      <td>80</td>\n      <td>1</td>\n      <td>False</td>\n      <td>223</td>\n      <td>high</td>\n    </tr>\n    <tr>\n      <th>4</th>\n      <td>Charmander</td>\n      <td>Fire</td>\n      <td>NaN</td>\n      <td>39</td>\n      <td>52</td>\n      <td>43</td>\n      <td>60</td>\n      <td>50</td>\n      <td>65</td>\n      <td>1</td>\n      <td>False</td>\n      <td>95</td>\n      <td>low</td>\n    </tr>\n    <tr>\n      <th>5</th>\n      <td>Diancie</td>\n      <td>Rock</td>\n      <td>Fairy</td>\n      <td>50</td>\n      <td>100</td>\n      <td>150</td>\n      <td>100</td>\n      <td>150</td>\n      <td>50</td>\n      <td>6</td>\n      <td>True</td>\n      <td>250</td>\n      <td>low</td>\n    </tr>\n    <tr>\n      <th>6</th>\n      <td>Mega Diancie</td>\n      <td>Rock</td>\n      <td>Fairy</td>\n      <td>50</td>\n      <td>160</td>\n      <td>110</td>\n      <td>160</td>\n      <td>110</td>\n      <td>110</td>\n      <td>6</td>\n      <td>True</td>\n      <td>270</td>\n      <td>high</td>\n    </tr>\n    <tr>\n      <th>7</th>\n      <td>Hoopa Confined</td>\n      <td>Psychic</td>\n      <td>Ghost</td>\n      <td>80</td>\n      <td>110</td>\n      <td>60</td>\n      <td>150</td>\n      <td>130</td>\n      <td>70</td>\n      <td>6</td>\n      <td>True</td>\n      <td>170</td>\n      <td>high</td>\n    </tr>\n    <tr>\n      <th>8</th>\n      <td>Hoopa Unbound</td>\n      <td>Psychic</td>\n      <td>Dark</td>\n      <td>80</td>\n      <td>160</td>\n      <td>60</td>\n      <td>170</td>\n      <td>130</td>\n      <td>80</td>\n      <td>6</td>\n      <td>True</td>\n      <td>220</td>\n      <td>high</td>\n    </tr>\n    <tr>\n      <th>9</th>\n      <td>Volcanion</td>\n      <td>Fire</td>\n      <td>Water</td>\n      <td>80</td>\n      <td>110</td>\n      <td>120</td>\n      <td>130</td>\n      <td>90</td>\n      <td>70</td>\n      <td>6</td>\n      <td>True</td>\n      <td>230</td>\n      <td>high</td>\n    </tr>\n  </tbody>\n</table>\n</div>"
          },
          "metadata": {}
        }
      ]
    },
    {
      "metadata": {
        "trusted": true,
        "_uuid": "91f90462a2f87a233e8f20bafdb00004701c9370"
      },
      "cell_type": "code",
      "source": "data1 = data['Attack'].head()\ndata2 = data['Defense'].head()\nconc_data_col = pd.concat([data1,data2],axis =1 ) #axis=1 columnları birleştirir.\nconc_data_col",
      "execution_count": 73,
      "outputs": [
        {
          "output_type": "execute_result",
          "execution_count": 73,
          "data": {
            "text/plain": "            Attack  Defense\nindex_name                 \n1               49       49\n2               62       63\n3               82       83\n4              100      123\n5               52       43",
            "text/html": "<div>\n<style scoped>\n    .dataframe tbody tr th:only-of-type {\n        vertical-align: middle;\n    }\n\n    .dataframe tbody tr th {\n        vertical-align: top;\n    }\n\n    .dataframe thead th {\n        text-align: right;\n    }\n</style>\n<table border=\"1\" class=\"dataframe\">\n  <thead>\n    <tr style=\"text-align: right;\">\n      <th></th>\n      <th>Attack</th>\n      <th>Defense</th>\n    </tr>\n    <tr>\n      <th>index_name</th>\n      <th></th>\n      <th></th>\n    </tr>\n  </thead>\n  <tbody>\n    <tr>\n      <th>1</th>\n      <td>49</td>\n      <td>49</td>\n    </tr>\n    <tr>\n      <th>2</th>\n      <td>62</td>\n      <td>63</td>\n    </tr>\n    <tr>\n      <th>3</th>\n      <td>82</td>\n      <td>83</td>\n    </tr>\n    <tr>\n      <th>4</th>\n      <td>100</td>\n      <td>123</td>\n    </tr>\n    <tr>\n      <th>5</th>\n      <td>52</td>\n      <td>43</td>\n    </tr>\n  </tbody>\n</table>\n</div>"
          },
          "metadata": {}
        }
      ]
    },
    {
      "metadata": {
        "_uuid": "597daf710d9de705dda4f660170bb1975d81acf5"
      },
      "cell_type": "markdown",
      "source": "## Data Types"
    },
    {
      "metadata": {
        "trusted": true,
        "_uuid": "d5f2d4e2bf6b2b8f5e78930946ad8743d6ea3302"
      },
      "cell_type": "code",
      "source": "data.dtypes",
      "execution_count": 74,
      "outputs": [
        {
          "output_type": "execute_result",
          "execution_count": 74,
          "data": {
            "text/plain": "Name           object\nType 1         object\nType 2         object\nHP              int64\nAttack          int64\nDefense         int64\nSp. Atk         int64\nSp. Def         int64\nSpeed           int64\nGeneration      int64\nLegendary        bool\ntotal_power     int64\nspeed_level    object\ndtype: object"
          },
          "metadata": {}
        }
      ]
    },
    {
      "metadata": {
        "trusted": true,
        "collapsed": true,
        "_uuid": "f2cd222f5fab1a7c7afbad17fcabf480aa4e75d0"
      },
      "cell_type": "code",
      "source": "data['Type 1'] = data['Type 1'].astype('category') # object türünü category türüne dönüştürdük\ndata['Speed'] = data['Speed'].astype('float') # int türünü float türüne dönüştürmüş olduk",
      "execution_count": 76,
      "outputs": []
    },
    {
      "metadata": {
        "trusted": true,
        "_uuid": "b6cda569e8ac0a06f62762d1fb24987d33cdf642"
      },
      "cell_type": "code",
      "source": "data.dtypes",
      "execution_count": 77,
      "outputs": [
        {
          "output_type": "execute_result",
          "execution_count": 77,
          "data": {
            "text/plain": "Name             object\nType 1         category\nType 2           object\nHP                int64\nAttack            int64\nDefense           int64\nSp. Atk           int64\nSp. Def           int64\nSpeed           float64\nGeneration        int64\nLegendary          bool\ntotal_power       int64\nspeed_level      object\ndtype: object"
          },
          "metadata": {}
        }
      ]
    },
    {
      "metadata": {
        "trusted": true,
        "collapsed": true,
        "_uuid": "8ab0a31b44fa65e362997b1f0d4f864e4ca47486"
      },
      "cell_type": "markdown",
      "source": "## Missing data"
    },
    {
      "metadata": {
        "trusted": true,
        "_uuid": "c4ddc2b4e098995a23472c4f126da8ca46dbc601"
      },
      "cell_type": "code",
      "source": "data.info()",
      "execution_count": 78,
      "outputs": [
        {
          "output_type": "stream",
          "text": "<class 'pandas.core.frame.DataFrame'>\nInt64Index: 800 entries, 1 to 800\nData columns (total 13 columns):\nName           799 non-null object\nType 1         800 non-null category\nType 2         414 non-null object\nHP             800 non-null int64\nAttack         800 non-null int64\nDefense        800 non-null int64\nSp. Atk        800 non-null int64\nSp. Def        800 non-null int64\nSpeed          800 non-null float64\nGeneration     800 non-null int64\nLegendary      800 non-null bool\ntotal_power    800 non-null int64\nspeed_level    800 non-null object\ndtypes: bool(1), category(1), float64(1), int64(7), object(3)\nmemory usage: 117.3+ KB\n",
          "name": "stdout"
        }
      ]
    },
    {
      "metadata": {
        "trusted": true,
        "_uuid": "4e594b73dc18e69e3a0d5537b94950a308228092"
      },
      "cell_type": "code",
      "source": "data['Type 2'].value_counts(dropna = False) # hangi elemandan kaç tane olduğunu verir",
      "execution_count": 79,
      "outputs": [
        {
          "output_type": "execute_result",
          "execution_count": 79,
          "data": {
            "text/plain": "NaN         386\nFlying       97\nGround       35\nPoison       34\nPsychic      33\nFighting     26\nGrass        25\nFairy        23\nSteel        22\nDark         20\nDragon       18\nRock         14\nGhost        14\nWater        14\nIce          14\nFire         12\nElectric      6\nNormal        4\nBug           3\nName: Type 2, dtype: int64"
          },
          "metadata": {}
        }
      ]
    },
    {
      "metadata": {
        "trusted": true,
        "collapsed": true,
        "_uuid": "dc95a3a23441eea7a7c8cad83232f4ab1e48355e"
      },
      "cell_type": "code",
      "source": "data1=data\ndata1['Type 2'].dropna(inplace = True ) #null olanları drop et pokemon listesinde at",
      "execution_count": 80,
      "outputs": []
    },
    {
      "metadata": {
        "trusted": true,
        "collapsed": true,
        "_uuid": "0de348b636fdeecd7aaf2e33c6aa54fcd3babdb5"
      },
      "cell_type": "code",
      "source": "assert 1==1 # Hiç bir şey döndürmezse doğrudur",
      "execution_count": 81,
      "outputs": []
    },
    {
      "metadata": {
        "trusted": true,
        "_uuid": "61026bf58323d1b27503db71cf6e12d3e378f77d"
      },
      "cell_type": "code",
      "source": "asser 1==2 ",
      "execution_count": 82,
      "outputs": [
        {
          "output_type": "error",
          "ename": "SyntaxError",
          "evalue": "invalid syntax (<ipython-input-82-66f8c230698f>, line 1)",
          "traceback": [
            "\u001b[0;36m  File \u001b[0;32m\"<ipython-input-82-66f8c230698f>\"\u001b[0;36m, line \u001b[0;32m1\u001b[0m\n\u001b[0;31m    asser 1==2\u001b[0m\n\u001b[0m          ^\u001b[0m\n\u001b[0;31mSyntaxError\u001b[0m\u001b[0;31m:\u001b[0m invalid syntax\n"
          ]
        }
      ]
    },
    {
      "metadata": {
        "trusted": true,
        "collapsed": true,
        "_uuid": "4ffbcfe1d629c9b7d3a4ad672e54a2b2aecb226b"
      },
      "cell_type": "code",
      "source": "assert data['Type 2'].notnull().all() #içeride notnoll değeri yoktur geriye bir şey döndürmez",
      "execution_count": 83,
      "outputs": []
    },
    {
      "metadata": {
        "trusted": true,
        "collapsed": true,
        "_uuid": "00d818f62fa6aa2cc07ec1e2cc5758fdc4aa0045"
      },
      "cell_type": "code",
      "source": "data['Type 2'].fillna('empty',inplace = True)",
      "execution_count": 84,
      "outputs": []
    },
    {
      "metadata": {
        "trusted": true,
        "collapsed": true,
        "_uuid": "c19ade7e0210f2eff54c6fbe531dbd4ff538389e"
      },
      "cell_type": "code",
      "source": "assert data['Type 2'].notnull().all()",
      "execution_count": 85,
      "outputs": []
    },
    {
      "metadata": {
        "trusted": true,
        "_uuid": "bf7f08e91bd98bc7d0f07571c185bb0d5ef3285b"
      },
      "cell_type": "code",
      "source": "data.head()",
      "execution_count": 86,
      "outputs": [
        {
          "output_type": "execute_result",
          "execution_count": 86,
          "data": {
            "text/plain": "                     Name Type 1     ...      total_power  speed_level\nindex_name                           ...                              \n1               Bulbasaur  Grass     ...               98          low\n2                 Ivysaur  Grass     ...              125          low\n3                Venusaur  Grass     ...              165         high\n4           Mega Venusaur  Grass     ...              223         high\n5              Charmander   Fire     ...               95          low\n\n[5 rows x 13 columns]",
            "text/html": "<div>\n<style scoped>\n    .dataframe tbody tr th:only-of-type {\n        vertical-align: middle;\n    }\n\n    .dataframe tbody tr th {\n        vertical-align: top;\n    }\n\n    .dataframe thead th {\n        text-align: right;\n    }\n</style>\n<table border=\"1\" class=\"dataframe\">\n  <thead>\n    <tr style=\"text-align: right;\">\n      <th></th>\n      <th>Name</th>\n      <th>Type 1</th>\n      <th>Type 2</th>\n      <th>HP</th>\n      <th>Attack</th>\n      <th>Defense</th>\n      <th>Sp. Atk</th>\n      <th>Sp. Def</th>\n      <th>Speed</th>\n      <th>Generation</th>\n      <th>Legendary</th>\n      <th>total_power</th>\n      <th>speed_level</th>\n    </tr>\n    <tr>\n      <th>index_name</th>\n      <th></th>\n      <th></th>\n      <th></th>\n      <th></th>\n      <th></th>\n      <th></th>\n      <th></th>\n      <th></th>\n      <th></th>\n      <th></th>\n      <th></th>\n      <th></th>\n      <th></th>\n    </tr>\n  </thead>\n  <tbody>\n    <tr>\n      <th>1</th>\n      <td>Bulbasaur</td>\n      <td>Grass</td>\n      <td>Poison</td>\n      <td>45</td>\n      <td>49</td>\n      <td>49</td>\n      <td>65</td>\n      <td>65</td>\n      <td>45.0</td>\n      <td>1</td>\n      <td>False</td>\n      <td>98</td>\n      <td>low</td>\n    </tr>\n    <tr>\n      <th>2</th>\n      <td>Ivysaur</td>\n      <td>Grass</td>\n      <td>Poison</td>\n      <td>60</td>\n      <td>62</td>\n      <td>63</td>\n      <td>80</td>\n      <td>80</td>\n      <td>60.0</td>\n      <td>1</td>\n      <td>False</td>\n      <td>125</td>\n      <td>low</td>\n    </tr>\n    <tr>\n      <th>3</th>\n      <td>Venusaur</td>\n      <td>Grass</td>\n      <td>Poison</td>\n      <td>80</td>\n      <td>82</td>\n      <td>83</td>\n      <td>100</td>\n      <td>100</td>\n      <td>80.0</td>\n      <td>1</td>\n      <td>False</td>\n      <td>165</td>\n      <td>high</td>\n    </tr>\n    <tr>\n      <th>4</th>\n      <td>Mega Venusaur</td>\n      <td>Grass</td>\n      <td>Poison</td>\n      <td>80</td>\n      <td>100</td>\n      <td>123</td>\n      <td>122</td>\n      <td>120</td>\n      <td>80.0</td>\n      <td>1</td>\n      <td>False</td>\n      <td>223</td>\n      <td>high</td>\n    </tr>\n    <tr>\n      <th>5</th>\n      <td>Charmander</td>\n      <td>Fire</td>\n      <td>NaN</td>\n      <td>39</td>\n      <td>52</td>\n      <td>43</td>\n      <td>60</td>\n      <td>50</td>\n      <td>65.0</td>\n      <td>1</td>\n      <td>False</td>\n      <td>95</td>\n      <td>low</td>\n    </tr>\n  </tbody>\n</table>\n</div>"
          },
          "metadata": {}
        }
      ]
    },
    {
      "metadata": {
        "trusted": true,
        "_uuid": "bcf81817bb8848225e439187304e5563ec43b712"
      },
      "cell_type": "code",
      "source": "data.Speed.dtypes",
      "execution_count": 87,
      "outputs": [
        {
          "output_type": "execute_result",
          "execution_count": 87,
          "data": {
            "text/plain": "dtype('float64')"
          },
          "metadata": {}
        }
      ]
    },
    {
      "metadata": {
        "trusted": true,
        "_uuid": "44c9bc1d0247a3b108db535ad803c55585136690",
        "collapsed": true
      },
      "cell_type": "code",
      "source": "# assert data.Speed.dtypes ==np.int\nassert data.Speed.dtypes ==np.float",
      "execution_count": null,
      "outputs": []
    },
    {
      "metadata": {
        "_uuid": "974b429f767758e4b9536abd266c85f581987199"
      },
      "cell_type": "markdown",
      "source": "# 4. PANDAS FOUNDATION"
    },
    {
      "metadata": {
        "trusted": true,
        "_uuid": "c35f5f981abe61c4a51f14bc3be7d2b279245a8b"
      },
      "cell_type": "code",
      "source": "data1 = data.loc[:,['Attack','Defense','Speed']]\ndata1.plot()",
      "execution_count": 88,
      "outputs": [
        {
          "output_type": "execute_result",
          "execution_count": 88,
          "data": {
            "text/plain": "<matplotlib.axes._subplots.AxesSubplot at 0x7f5c8d4142e8>"
          },
          "metadata": {}
        },
        {
          "output_type": "display_data",
          "data": {
            "text/plain": "<matplotlib.figure.Figure at 0x7f5c8d406a58>",
            "image/png": "[encoded data removed]"
          },
          "metadata": {}
        }
      ]
    },
    {
      "metadata": {
        "trusted": true,
        "_uuid": "88bb999595f7bbedeeb9cd5194275fe88c6a2035"
      },
      "cell_type": "code",
      "source": "data1.plot(subplots = True)\nplt.show()",
      "execution_count": 89,
      "outputs": [
        {
          "output_type": "display_data",
          "data": {
            "text/plain": "<matplotlib.figure.Figure at 0x7f5c8d382978>",
            "image/png": "[encoded data removed]"
          },
          "metadata": {}
        }
      ]
    },
    {
      "metadata": {
        "trusted": true,
        "_uuid": "d961cdbece25b2fc494be126e522cc3b13e8300a"
      },
      "cell_type": "code",
      "source": "data1.plot(kind = 'scatter',x = 'Attack',y ='Defense')",
      "execution_count": 90,
      "outputs": [
        {
          "output_type": "execute_result",
          "execution_count": 90,
          "data": {
            "text/plain": "<matplotlib.axes._subplots.AxesSubplot at 0x7f5c8d288240>"
          },
          "metadata": {}
        },
        {
          "output_type": "display_data",
          "data": {
            "text/plain": "<matplotlib.figure.Figure at 0x7f5c8d22da58>",
            "image/png": "[encoded data removed]"
          },
          "metadata": {}
        }
      ]
    },
    {
      "metadata": {
        "trusted": true,
        "_uuid": "e5cd809a7dd60059d433aa7210dce55d806034ec"
      },
      "cell_type": "code",
      "source": "data1.plot(kind= 'hist',y='Defense',bins=50,range=(0,250),normed=True)",
      "execution_count": 91,
      "outputs": [
        {
          "output_type": "execute_result",
          "execution_count": 91,
          "data": {
            "text/plain": "<matplotlib.axes._subplots.AxesSubplot at 0x7f5c8d2885c0>"
          },
          "metadata": {}
        },
        {
          "output_type": "display_data",
          "data": {
            "text/plain": "<matplotlib.figure.Figure at 0x7f5c8d211400>",
            "image/png": "[encoded data removed]"
          },
          "metadata": {}
        }
      ]
    },
    {
      "metadata": {
        "trusted": true,
        "_uuid": "ff1c2376929ea351d03f8a98755b781cfc3a0964"
      },
      "cell_type": "code",
      "source": "fig, axes = plt.subplots(nrows =2 , ncols = 1)\ndata1.plot(kind ='hist',y = 'Defense',bins = 50, range =(0,250),normed = True, ax = axes[0])\ndata1.plot(kind = 'hist',y='Defense', bins=50 , range = (0,250),normed=True, ax =axes[1],cumulative =True)# cumulative her zaman toplayarak gider\nplt.savefig('graph.png')\nplt",
      "execution_count": 92,
      "outputs": [
        {
          "output_type": "execute_result",
          "execution_count": 92,
          "data": {
            "text/plain": "<module 'matplotlib.pyplot' from '/opt/conda/lib/python3.6/site-packages/matplotlib/pyplot.py'>"
          },
          "metadata": {}
        },
        {
          "output_type": "display_data",
          "data": {
            "text/plain": "<matplotlib.figure.Figure at 0x7f5c84555588>",
            "image/png": "[encoded data removed]"
          },
          "metadata": {}
        }
      ]
    },
    {
      "metadata": {
        "_uuid": "4f93d4d79e5b17a50464a7933f289f3cd47880ca"
      },
      "cell_type": "markdown",
      "source": "## indexing pandas time series "
    },
    {
      "metadata": {
        "_uuid": "dc47cce44b6829dde2b4e9542e58ce6b1d3c954b"
      },
      "cell_type": "markdown",
      "source": "parse_dates(boolean) : Transform date to ISO 8601 (yyyy-mm-dd hh:mm:ss)format"
    },
    {
      "metadata": {
        "trusted": true,
        "_uuid": "851ccdce2579c80ad57376885162b9be2f9d1827"
      },
      "cell_type": "code",
      "source": "time_list = [\"1992-03-08\",'1992-04-12']\nprint(type(time_list[1]))\ndatetime_object = pd.to_datetime(time_list)\nprint(type(datetime_object))",
      "execution_count": 5,
      "outputs": [
        {
          "output_type": "stream",
          "text": "<class 'str'>\n<class 'pandas.core.indexes.datetimes.DatetimeIndex'>\n",
          "name": "stdout"
        }
      ]
    },
    {
      "metadata": {
        "trusted": true,
        "_uuid": "09334c02b43cd88806e6eaf2933d6f5de9cbf8e8"
      },
      "cell_type": "code",
      "source": "import warnings\n\nwarnings.filterwarnings(\"ignore\")\ndata2 = data.head()\ndate_list = [\"1992-01-10\",\"1992-02-10\",\"1992-03-10\",\"1993-03-15\",\"1993-03-16\"]\ndatetime_object = pd.to_datetime(date_list)\ndata2[\"date\"] = datetime_object\ndata2= data2.set_index(\"date\")\ndata2 ",
      "execution_count": 10,
      "outputs": [
        {
          "output_type": "execute_result",
          "execution_count": 10,
          "data": {
            "text/plain": "            #           Name Type 1    ...     Speed  Generation  Legendary\ndate                                   ...                                 \n1992-01-10  1      Bulbasaur  Grass    ...        45           1      False\n1992-02-10  2        Ivysaur  Grass    ...        60           1      False\n1992-03-10  3       Venusaur  Grass    ...        80           1      False\n1993-03-15  4  Mega Venusaur  Grass    ...        80           1      False\n1993-03-16  5     Charmander   Fire    ...        65           1      False\n\n[5 rows x 12 columns]",
            "text/html": "<div>\n<style scoped>\n    .dataframe tbody tr th:only-of-type {\n        vertical-align: middle;\n    }\n\n    .dataframe tbody tr th {\n        vertical-align: top;\n    }\n\n    .dataframe thead th {\n        text-align: right;\n    }\n</style>\n<table border=\"1\" class=\"dataframe\">\n  <thead>\n    <tr style=\"text-align: right;\">\n      <th></th>\n      <th>#</th>\n      <th>Name</th>\n      <th>Type 1</th>\n      <th>Type 2</th>\n      <th>HP</th>\n      <th>Attack</th>\n      <th>Defense</th>\n      <th>Sp. Atk</th>\n      <th>Sp. Def</th>\n      <th>Speed</th>\n      <th>Generation</th>\n      <th>Legendary</th>\n    </tr>\n    <tr>\n      <th>date</th>\n      <th></th>\n      <th></th>\n      <th></th>\n      <th></th>\n      <th></th>\n      <th></th>\n      <th></th>\n      <th></th>\n      <th></th>\n      <th></th>\n      <th></th>\n      <th></th>\n    </tr>\n  </thead>\n  <tbody>\n    <tr>\n      <th>1992-01-10</th>\n      <td>1</td>\n      <td>Bulbasaur</td>\n      <td>Grass</td>\n      <td>Poison</td>\n      <td>45</td>\n      <td>49</td>\n      <td>49</td>\n      <td>65</td>\n      <td>65</td>\n      <td>45</td>\n      <td>1</td>\n      <td>False</td>\n    </tr>\n    <tr>\n      <th>1992-02-10</th>\n      <td>2</td>\n      <td>Ivysaur</td>\n      <td>Grass</td>\n      <td>Poison</td>\n      <td>60</td>\n      <td>62</td>\n      <td>63</td>\n      <td>80</td>\n      <td>80</td>\n      <td>60</td>\n      <td>1</td>\n      <td>False</td>\n    </tr>\n    <tr>\n      <th>1992-03-10</th>\n      <td>3</td>\n      <td>Venusaur</td>\n      <td>Grass</td>\n      <td>Poison</td>\n      <td>80</td>\n      <td>82</td>\n      <td>83</td>\n      <td>100</td>\n      <td>100</td>\n      <td>80</td>\n      <td>1</td>\n      <td>False</td>\n    </tr>\n    <tr>\n      <th>1993-03-15</th>\n      <td>4</td>\n      <td>Mega Venusaur</td>\n      <td>Grass</td>\n      <td>Poison</td>\n      <td>80</td>\n      <td>100</td>\n      <td>123</td>\n      <td>122</td>\n      <td>120</td>\n      <td>80</td>\n      <td>1</td>\n      <td>False</td>\n    </tr>\n    <tr>\n      <th>1993-03-16</th>\n      <td>5</td>\n      <td>Charmander</td>\n      <td>Fire</td>\n      <td>NaN</td>\n      <td>39</td>\n      <td>52</td>\n      <td>43</td>\n      <td>60</td>\n      <td>50</td>\n      <td>65</td>\n      <td>1</td>\n      <td>False</td>\n    </tr>\n  </tbody>\n</table>\n</div>"
          },
          "metadata": {}
        }
      ]
    },
    {
      "metadata": {
        "trusted": true,
        "_uuid": "77cfa8e4ca0070facaed79767c953a2908905539"
      },
      "cell_type": "code",
      "source": "print(data2.loc['1993-03-16'])\nprint(data2.loc['1992-03-10':'1993-03-16'])",
      "execution_count": 11,
      "outputs": [
        {
          "output_type": "stream",
          "text": "#                      5\nName          Charmander\nType 1              Fire\nType 2               NaN\nHP                    39\nAttack                52\nDefense               43\nSp. Atk               60\nSp. Def               50\nSpeed                 65\nGeneration             1\nLegendary          False\nName: 1993-03-16 00:00:00, dtype: object\n            #           Name Type 1    ...     Speed  Generation  Legendary\ndate                                   ...                                 \n1992-03-10  3       Venusaur  Grass    ...        80           1      False\n1993-03-15  4  Mega Venusaur  Grass    ...        80           1      False\n1993-03-16  5     Charmander   Fire    ...        65           1      False\n\n[3 rows x 12 columns]\n",
          "name": "stdout"
        }
      ]
    },
    {
      "metadata": {
        "trusted": true,
        "collapsed": true,
        "_uuid": "3c69c01cab0e0a1e9e621122ef457030208ae123"
      },
      "cell_type": "markdown",
      "source": "## RESAMPLING PANDAS TIME SERIES"
    },
    {
      "metadata": {
        "trusted": true,
        "_uuid": "263bdd958aaf61e1760371954e20ecb800c47937"
      },
      "cell_type": "code",
      "source": "data2.resample('A').mean() # A = year, M = month",
      "execution_count": 12,
      "outputs": [
        {
          "output_type": "execute_result",
          "execution_count": 12,
          "data": {
            "text/plain": "              #         HP    ...      Generation  Legendary\ndate                          ...                           \n1992-12-31  2.0  61.666667    ...             1.0      False\n1993-12-31  4.5  59.500000    ...             1.0      False\n\n[2 rows x 9 columns]",
            "text/html": "<div>\n<style scoped>\n    .dataframe tbody tr th:only-of-type {\n        vertical-align: middle;\n    }\n\n    .dataframe tbody tr th {\n        vertical-align: top;\n    }\n\n    .dataframe thead th {\n        text-align: right;\n    }\n</style>\n<table border=\"1\" class=\"dataframe\">\n  <thead>\n    <tr style=\"text-align: right;\">\n      <th></th>\n      <th>#</th>\n      <th>HP</th>\n      <th>Attack</th>\n      <th>Defense</th>\n      <th>Sp. Atk</th>\n      <th>Sp. Def</th>\n      <th>Speed</th>\n      <th>Generation</th>\n      <th>Legendary</th>\n    </tr>\n    <tr>\n      <th>date</th>\n      <th></th>\n      <th></th>\n      <th></th>\n      <th></th>\n      <th></th>\n      <th></th>\n      <th></th>\n      <th></th>\n      <th></th>\n    </tr>\n  </thead>\n  <tbody>\n    <tr>\n      <th>1992-12-31</th>\n      <td>2.0</td>\n      <td>61.666667</td>\n      <td>64.333333</td>\n      <td>65.0</td>\n      <td>81.666667</td>\n      <td>81.666667</td>\n      <td>61.666667</td>\n      <td>1.0</td>\n      <td>False</td>\n    </tr>\n    <tr>\n      <th>1993-12-31</th>\n      <td>4.5</td>\n      <td>59.500000</td>\n      <td>76.000000</td>\n      <td>83.0</td>\n      <td>91.000000</td>\n      <td>85.000000</td>\n      <td>72.500000</td>\n      <td>1.0</td>\n      <td>False</td>\n    </tr>\n  </tbody>\n</table>\n</div>"
          },
          "metadata": {}
        }
      ]
    },
    {
      "metadata": {
        "trusted": true,
        "_uuid": "2f75e6944bee801e69f4ea55ba245a816a1c7433"
      },
      "cell_type": "code",
      "source": "data2.resample('M').mean()",
      "execution_count": 13,
      "outputs": [
        {
          "output_type": "execute_result",
          "execution_count": 13,
          "data": {
            "text/plain": "              #    HP  Attack    ...      Speed  Generation  Legendary\ndate                             ...                                  \n1992-01-31  1.0  45.0    49.0    ...       45.0         1.0        0.0\n1992-02-29  2.0  60.0    62.0    ...       60.0         1.0        0.0\n1992-03-31  3.0  80.0    82.0    ...       80.0         1.0        0.0\n1992-04-30  NaN   NaN     NaN    ...        NaN         NaN        NaN\n1992-05-31  NaN   NaN     NaN    ...        NaN         NaN        NaN\n1992-06-30  NaN   NaN     NaN    ...        NaN         NaN        NaN\n1992-07-31  NaN   NaN     NaN    ...        NaN         NaN        NaN\n1992-08-31  NaN   NaN     NaN    ...        NaN         NaN        NaN\n1992-09-30  NaN   NaN     NaN    ...        NaN         NaN        NaN\n1992-10-31  NaN   NaN     NaN    ...        NaN         NaN        NaN\n1992-11-30  NaN   NaN     NaN    ...        NaN         NaN        NaN\n1992-12-31  NaN   NaN     NaN    ...        NaN         NaN        NaN\n1993-01-31  NaN   NaN     NaN    ...        NaN         NaN        NaN\n1993-02-28  NaN   NaN     NaN    ...        NaN         NaN        NaN\n1993-03-31  4.5  59.5    76.0    ...       72.5         1.0        0.0\n\n[15 rows x 9 columns]",
            "text/html": "<div>\n<style scoped>\n    .dataframe tbody tr th:only-of-type {\n        vertical-align: middle;\n    }\n\n    .dataframe tbody tr th {\n        vertical-align: top;\n    }\n\n    .dataframe thead th {\n        text-align: right;\n    }\n</style>\n<table border=\"1\" class=\"dataframe\">\n  <thead>\n    <tr style=\"text-align: right;\">\n      <th></th>\n      <th>#</th>\n      <th>HP</th>\n      <th>Attack</th>\n      <th>Defense</th>\n      <th>Sp. Atk</th>\n      <th>Sp. Def</th>\n      <th>Speed</th>\n      <th>Generation</th>\n      <th>Legendary</th>\n    </tr>\n    <tr>\n      <th>date</th>\n      <th></th>\n      <th></th>\n      <th></th>\n      <th></th>\n      <th></th>\n      <th></th>\n      <th></th>\n      <th></th>\n      <th></th>\n    </tr>\n  </thead>\n  <tbody>\n    <tr>\n      <th>1992-01-31</th>\n      <td>1.0</td>\n      <td>45.0</td>\n      <td>49.0</td>\n      <td>49.0</td>\n      <td>65.0</td>\n      <td>65.0</td>\n      <td>45.0</td>\n      <td>1.0</td>\n      <td>0.0</td>\n    </tr>\n    <tr>\n      <th>1992-02-29</th>\n      <td>2.0</td>\n      <td>60.0</td>\n      <td>62.0</td>\n      <td>63.0</td>\n      <td>80.0</td>\n      <td>80.0</td>\n      <td>60.0</td>\n      <td>1.0</td>\n      <td>0.0</td>\n    </tr>\n    <tr>\n      <th>1992-03-31</th>\n      <td>3.0</td>\n      <td>80.0</td>\n      <td>82.0</td>\n      <td>83.0</td>\n      <td>100.0</td>\n      <td>100.0</td>\n      <td>80.0</td>\n      <td>1.0</td>\n      <td>0.0</td>\n    </tr>\n    <tr>\n      <th>1992-04-30</th>\n      <td>NaN</td>\n      <td>NaN</td>\n      <td>NaN</td>\n      <td>NaN</td>\n      <td>NaN</td>\n      <td>NaN</td>\n      <td>NaN</td>\n      <td>NaN</td>\n      <td>NaN</td>\n    </tr>\n    <tr>\n      <th>1992-05-31</th>\n      <td>NaN</td>\n      <td>NaN</td>\n      <td>NaN</td>\n      <td>NaN</td>\n      <td>NaN</td>\n      <td>NaN</td>\n      <td>NaN</td>\n      <td>NaN</td>\n      <td>NaN</td>\n    </tr>\n    <tr>\n      <th>1992-06-30</th>\n      <td>NaN</td>\n      <td>NaN</td>\n      <td>NaN</td>\n      <td>NaN</td>\n      <td>NaN</td>\n      <td>NaN</td>\n      <td>NaN</td>\n      <td>NaN</td>\n      <td>NaN</td>\n    </tr>\n    <tr>\n      <th>1992-07-31</th>\n      <td>NaN</td>\n      <td>NaN</td>\n      <td>NaN</td>\n      <td>NaN</td>\n      <td>NaN</td>\n      <td>NaN</td>\n      <td>NaN</td>\n      <td>NaN</td>\n      <td>NaN</td>\n    </tr>\n    <tr>\n      <th>1992-08-31</th>\n      <td>NaN</td>\n      <td>NaN</td>\n      <td>NaN</td>\n      <td>NaN</td>\n      <td>NaN</td>\n      <td>NaN</td>\n      <td>NaN</td>\n      <td>NaN</td>\n      <td>NaN</td>\n    </tr>\n    <tr>\n      <th>1992-09-30</th>\n      <td>NaN</td>\n      <td>NaN</td>\n      <td>NaN</td>\n      <td>NaN</td>\n      <td>NaN</td>\n      <td>NaN</td>\n      <td>NaN</td>\n      <td>NaN</td>\n      <td>NaN</td>\n    </tr>\n    <tr>\n      <th>1992-10-31</th>\n      <td>NaN</td>\n      <td>NaN</td>\n      <td>NaN</td>\n      <td>NaN</td>\n      <td>NaN</td>\n      <td>NaN</td>\n      <td>NaN</td>\n      <td>NaN</td>\n      <td>NaN</td>\n    </tr>\n    <tr>\n      <th>1992-11-30</th>\n      <td>NaN</td>\n      <td>NaN</td>\n      <td>NaN</td>\n      <td>NaN</td>\n      <td>NaN</td>\n      <td>NaN</td>\n      <td>NaN</td>\n      <td>NaN</td>\n      <td>NaN</td>\n    </tr>\n    <tr>\n      <th>1992-12-31</th>\n      <td>NaN</td>\n      <td>NaN</td>\n      <td>NaN</td>\n      <td>NaN</td>\n      <td>NaN</td>\n      <td>NaN</td>\n      <td>NaN</td>\n      <td>NaN</td>\n      <td>NaN</td>\n    </tr>\n    <tr>\n      <th>1993-01-31</th>\n      <td>NaN</td>\n      <td>NaN</td>\n      <td>NaN</td>\n      <td>NaN</td>\n      <td>NaN</td>\n      <td>NaN</td>\n      <td>NaN</td>\n      <td>NaN</td>\n      <td>NaN</td>\n    </tr>\n    <tr>\n      <th>1993-02-28</th>\n      <td>NaN</td>\n      <td>NaN</td>\n      <td>NaN</td>\n      <td>NaN</td>\n      <td>NaN</td>\n      <td>NaN</td>\n      <td>NaN</td>\n      <td>NaN</td>\n      <td>NaN</td>\n    </tr>\n    <tr>\n      <th>1993-03-31</th>\n      <td>4.5</td>\n      <td>59.5</td>\n      <td>76.0</td>\n      <td>83.0</td>\n      <td>91.0</td>\n      <td>85.0</td>\n      <td>72.5</td>\n      <td>1.0</td>\n      <td>0.0</td>\n    </tr>\n  </tbody>\n</table>\n</div>"
          },
          "metadata": {}
        }
      ]
    },
    {
      "metadata": {
        "trusted": true,
        "_uuid": "1569c02bf5213bd94f0bc9b766b0d36ef94cdf28"
      },
      "cell_type": "code",
      "source": "data2.resample('M').first().interpolate('linear')",
      "execution_count": 14,
      "outputs": [
        {
          "output_type": "execute_result",
          "execution_count": 14,
          "data": {
            "text/plain": "                   #           Name    ...    Generation Legendary\ndate                                   ...                        \n1992-01-31  1.000000      Bulbasaur    ...           1.0       0.0\n1992-02-29  2.000000        Ivysaur    ...           1.0       0.0\n1992-03-31  3.000000       Venusaur    ...           1.0       0.0\n1992-04-30  3.083333            NaN    ...           1.0       0.0\n1992-05-31  3.166667            NaN    ...           1.0       0.0\n1992-06-30  3.250000            NaN    ...           1.0       0.0\n1992-07-31  3.333333            NaN    ...           1.0       0.0\n1992-08-31  3.416667            NaN    ...           1.0       0.0\n1992-09-30  3.500000            NaN    ...           1.0       0.0\n1992-10-31  3.583333            NaN    ...           1.0       0.0\n1992-11-30  3.666667            NaN    ...           1.0       0.0\n1992-12-31  3.750000            NaN    ...           1.0       0.0\n1993-01-31  3.833333            NaN    ...           1.0       0.0\n1993-02-28  3.916667            NaN    ...           1.0       0.0\n1993-03-31  4.000000  Mega Venusaur    ...           1.0       0.0\n\n[15 rows x 12 columns]",
            "text/html": "<div>\n<style scoped>\n    .dataframe tbody tr th:only-of-type {\n        vertical-align: middle;\n    }\n\n    .dataframe tbody tr th {\n        vertical-align: top;\n    }\n\n    .dataframe thead th {\n        text-align: right;\n    }\n</style>\n<table border=\"1\" class=\"dataframe\">\n  <thead>\n    <tr style=\"text-align: right;\">\n      <th></th>\n      <th>#</th>\n      <th>Name</th>\n      <th>Type 1</th>\n      <th>Type 2</th>\n      <th>HP</th>\n      <th>Attack</th>\n      <th>Defense</th>\n      <th>Sp. Atk</th>\n      <th>Sp. Def</th>\n      <th>Speed</th>\n      <th>Generation</th>\n      <th>Legendary</th>\n    </tr>\n    <tr>\n      <th>date</th>\n      <th></th>\n      <th></th>\n      <th></th>\n      <th></th>\n      <th></th>\n      <th></th>\n      <th></th>\n      <th></th>\n      <th></th>\n      <th></th>\n      <th></th>\n      <th></th>\n    </tr>\n  </thead>\n  <tbody>\n    <tr>\n      <th>1992-01-31</th>\n      <td>1.000000</td>\n      <td>Bulbasaur</td>\n      <td>Grass</td>\n      <td>Poison</td>\n      <td>45.0</td>\n      <td>49.0</td>\n      <td>49.000000</td>\n      <td>65.000000</td>\n      <td>65.000000</td>\n      <td>45.0</td>\n      <td>1.0</td>\n      <td>0.0</td>\n    </tr>\n    <tr>\n      <th>1992-02-29</th>\n      <td>2.000000</td>\n      <td>Ivysaur</td>\n      <td>Grass</td>\n      <td>Poison</td>\n      <td>60.0</td>\n      <td>62.0</td>\n      <td>63.000000</td>\n      <td>80.000000</td>\n      <td>80.000000</td>\n      <td>60.0</td>\n      <td>1.0</td>\n      <td>0.0</td>\n    </tr>\n    <tr>\n      <th>1992-03-31</th>\n      <td>3.000000</td>\n      <td>Venusaur</td>\n      <td>Grass</td>\n      <td>Poison</td>\n      <td>80.0</td>\n      <td>82.0</td>\n      <td>83.000000</td>\n      <td>100.000000</td>\n      <td>100.000000</td>\n      <td>80.0</td>\n      <td>1.0</td>\n      <td>0.0</td>\n    </tr>\n    <tr>\n      <th>1992-04-30</th>\n      <td>3.083333</td>\n      <td>NaN</td>\n      <td>NaN</td>\n      <td>NaN</td>\n      <td>80.0</td>\n      <td>83.5</td>\n      <td>86.333333</td>\n      <td>101.833333</td>\n      <td>101.666667</td>\n      <td>80.0</td>\n      <td>1.0</td>\n      <td>0.0</td>\n    </tr>\n    <tr>\n      <th>1992-05-31</th>\n      <td>3.166667</td>\n      <td>NaN</td>\n      <td>NaN</td>\n      <td>NaN</td>\n      <td>80.0</td>\n      <td>85.0</td>\n      <td>89.666667</td>\n      <td>103.666667</td>\n      <td>103.333333</td>\n      <td>80.0</td>\n      <td>1.0</td>\n      <td>0.0</td>\n    </tr>\n    <tr>\n      <th>1992-06-30</th>\n      <td>3.250000</td>\n      <td>NaN</td>\n      <td>NaN</td>\n      <td>NaN</td>\n      <td>80.0</td>\n      <td>86.5</td>\n      <td>93.000000</td>\n      <td>105.500000</td>\n      <td>105.000000</td>\n      <td>80.0</td>\n      <td>1.0</td>\n      <td>0.0</td>\n    </tr>\n    <tr>\n      <th>1992-07-31</th>\n      <td>3.333333</td>\n      <td>NaN</td>\n      <td>NaN</td>\n      <td>NaN</td>\n      <td>80.0</td>\n      <td>88.0</td>\n      <td>96.333333</td>\n      <td>107.333333</td>\n      <td>106.666667</td>\n      <td>80.0</td>\n      <td>1.0</td>\n      <td>0.0</td>\n    </tr>\n    <tr>\n      <th>1992-08-31</th>\n      <td>3.416667</td>\n      <td>NaN</td>\n      <td>NaN</td>\n      <td>NaN</td>\n      <td>80.0</td>\n      <td>89.5</td>\n      <td>99.666667</td>\n      <td>109.166667</td>\n      <td>108.333333</td>\n      <td>80.0</td>\n      <td>1.0</td>\n      <td>0.0</td>\n    </tr>\n    <tr>\n      <th>1992-09-30</th>\n      <td>3.500000</td>\n      <td>NaN</td>\n      <td>NaN</td>\n      <td>NaN</td>\n      <td>80.0</td>\n      <td>91.0</td>\n      <td>103.000000</td>\n      <td>111.000000</td>\n      <td>110.000000</td>\n      <td>80.0</td>\n      <td>1.0</td>\n      <td>0.0</td>\n    </tr>\n    <tr>\n      <th>1992-10-31</th>\n      <td>3.583333</td>\n      <td>NaN</td>\n      <td>NaN</td>\n      <td>NaN</td>\n      <td>80.0</td>\n      <td>92.5</td>\n      <td>106.333333</td>\n      <td>112.833333</td>\n      <td>111.666667</td>\n      <td>80.0</td>\n      <td>1.0</td>\n      <td>0.0</td>\n    </tr>\n    <tr>\n      <th>1992-11-30</th>\n      <td>3.666667</td>\n      <td>NaN</td>\n      <td>NaN</td>\n      <td>NaN</td>\n      <td>80.0</td>\n      <td>94.0</td>\n      <td>109.666667</td>\n      <td>114.666667</td>\n      <td>113.333333</td>\n      <td>80.0</td>\n      <td>1.0</td>\n      <td>0.0</td>\n    </tr>\n    <tr>\n      <th>1992-12-31</th>\n      <td>3.750000</td>\n      <td>NaN</td>\n      <td>NaN</td>\n      <td>NaN</td>\n      <td>80.0</td>\n      <td>95.5</td>\n      <td>113.000000</td>\n      <td>116.500000</td>\n      <td>115.000000</td>\n      <td>80.0</td>\n      <td>1.0</td>\n      <td>0.0</td>\n    </tr>\n    <tr>\n      <th>1993-01-31</th>\n      <td>3.833333</td>\n      <td>NaN</td>\n      <td>NaN</td>\n      <td>NaN</td>\n      <td>80.0</td>\n      <td>97.0</td>\n      <td>116.333333</td>\n      <td>118.333333</td>\n      <td>116.666667</td>\n      <td>80.0</td>\n      <td>1.0</td>\n      <td>0.0</td>\n    </tr>\n    <tr>\n      <th>1993-02-28</th>\n      <td>3.916667</td>\n      <td>NaN</td>\n      <td>NaN</td>\n      <td>NaN</td>\n      <td>80.0</td>\n      <td>98.5</td>\n      <td>119.666667</td>\n      <td>120.166667</td>\n      <td>118.333333</td>\n      <td>80.0</td>\n      <td>1.0</td>\n      <td>0.0</td>\n    </tr>\n    <tr>\n      <th>1993-03-31</th>\n      <td>4.000000</td>\n      <td>Mega Venusaur</td>\n      <td>Grass</td>\n      <td>Poison</td>\n      <td>80.0</td>\n      <td>100.0</td>\n      <td>123.000000</td>\n      <td>122.000000</td>\n      <td>120.000000</td>\n      <td>80.0</td>\n      <td>1.0</td>\n      <td>0.0</td>\n    </tr>\n  </tbody>\n</table>\n</div>"
          },
          "metadata": {}
        }
      ]
    },
    {
      "metadata": {
        "trusted": true,
        "collapsed": true,
        "_uuid": "9b34996becd5de999cb8c933a27a581108c5caab"
      },
      "cell_type": "markdown",
      "source": "# Manipulating Data Frames With Pandas"
    },
    {
      "metadata": {
        "trusted": true,
        "_uuid": "ab1fe69f0fdd3f7e98f8d79f72af8180491e2bab"
      },
      "cell_type": "code",
      "source": "data = data.set_index('#')\ndata.head()",
      "execution_count": 15,
      "outputs": [
        {
          "output_type": "execute_result",
          "execution_count": 15,
          "data": {
            "text/plain": "            Name Type 1  Type 2    ...      Speed  Generation  Legendary\n#                                  ...                                  \n1      Bulbasaur  Grass  Poison    ...         45           1      False\n2        Ivysaur  Grass  Poison    ...         60           1      False\n3       Venusaur  Grass  Poison    ...         80           1      False\n4  Mega Venusaur  Grass  Poison    ...         80           1      False\n5     Charmander   Fire     NaN    ...         65           1      False\n\n[5 rows x 11 columns]",
            "text/html": "<div>\n<style scoped>\n    .dataframe tbody tr th:only-of-type {\n        vertical-align: middle;\n    }\n\n    .dataframe tbody tr th {\n        vertical-align: top;\n    }\n\n    .dataframe thead th {\n        text-align: right;\n    }\n</style>\n<table border=\"1\" class=\"dataframe\">\n  <thead>\n    <tr style=\"text-align: right;\">\n      <th></th>\n      <th>Name</th>\n      <th>Type 1</th>\n      <th>Type 2</th>\n      <th>HP</th>\n      <th>Attack</th>\n      <th>Defense</th>\n      <th>Sp. Atk</th>\n      <th>Sp. Def</th>\n      <th>Speed</th>\n      <th>Generation</th>\n      <th>Legendary</th>\n    </tr>\n    <tr>\n      <th>#</th>\n      <th></th>\n      <th></th>\n      <th></th>\n      <th></th>\n      <th></th>\n      <th></th>\n      <th></th>\n      <th></th>\n      <th></th>\n      <th></th>\n      <th></th>\n    </tr>\n  </thead>\n  <tbody>\n    <tr>\n      <th>1</th>\n      <td>Bulbasaur</td>\n      <td>Grass</td>\n      <td>Poison</td>\n      <td>45</td>\n      <td>49</td>\n      <td>49</td>\n      <td>65</td>\n      <td>65</td>\n      <td>45</td>\n      <td>1</td>\n      <td>False</td>\n    </tr>\n    <tr>\n      <th>2</th>\n      <td>Ivysaur</td>\n      <td>Grass</td>\n      <td>Poison</td>\n      <td>60</td>\n      <td>62</td>\n      <td>63</td>\n      <td>80</td>\n      <td>80</td>\n      <td>60</td>\n      <td>1</td>\n      <td>False</td>\n    </tr>\n    <tr>\n      <th>3</th>\n      <td>Venusaur</td>\n      <td>Grass</td>\n      <td>Poison</td>\n      <td>80</td>\n      <td>82</td>\n      <td>83</td>\n      <td>100</td>\n      <td>100</td>\n      <td>80</td>\n      <td>1</td>\n      <td>False</td>\n    </tr>\n    <tr>\n      <th>4</th>\n      <td>Mega Venusaur</td>\n      <td>Grass</td>\n      <td>Poison</td>\n      <td>80</td>\n      <td>100</td>\n      <td>123</td>\n      <td>122</td>\n      <td>120</td>\n      <td>80</td>\n      <td>1</td>\n      <td>False</td>\n    </tr>\n    <tr>\n      <th>5</th>\n      <td>Charmander</td>\n      <td>Fire</td>\n      <td>NaN</td>\n      <td>39</td>\n      <td>52</td>\n      <td>43</td>\n      <td>60</td>\n      <td>50</td>\n      <td>65</td>\n      <td>1</td>\n      <td>False</td>\n    </tr>\n  </tbody>\n</table>\n</div>"
          },
          "metadata": {}
        }
      ]
    },
    {
      "metadata": {
        "trusted": true,
        "_uuid": "004854ec8f0499ae94834d459573a47369b2e5f7"
      },
      "cell_type": "code",
      "source": "data['HP'][1]",
      "execution_count": 16,
      "outputs": [
        {
          "output_type": "execute_result",
          "execution_count": 16,
          "data": {
            "text/plain": "45"
          },
          "metadata": {}
        }
      ]
    },
    {
      "metadata": {
        "trusted": true,
        "_uuid": "2edafe8298f1110e1d19189e38eb4ad2ca52a6cf"
      },
      "cell_type": "code",
      "source": "data.HP[1]",
      "execution_count": 17,
      "outputs": [
        {
          "output_type": "execute_result",
          "execution_count": 17,
          "data": {
            "text/plain": "45"
          },
          "metadata": {}
        }
      ]
    },
    {
      "metadata": {
        "trusted": true,
        "_uuid": "0a8dccbb636adc84d2f5d575b318bf3e54e02dfd"
      },
      "cell_type": "code",
      "source": "data.loc[1,['HP']]",
      "execution_count": 18,
      "outputs": [
        {
          "output_type": "execute_result",
          "execution_count": 18,
          "data": {
            "text/plain": "HP    45\nName: 1, dtype: object"
          },
          "metadata": {}
        }
      ]
    },
    {
      "metadata": {
        "trusted": true,
        "_uuid": "72b44931e5f3e3ff750ce11f479a2509ff2ab3fa"
      },
      "cell_type": "code",
      "source": "data[['HP','Attack']]",
      "execution_count": 19,
      "outputs": [
        {
          "output_type": "execute_result",
          "execution_count": 19,
          "data": {
            "text/plain": "      HP  Attack\n#               \n1     45      49\n2     60      62\n3     80      82\n4     80     100\n5     39      52\n6     58      64\n7     78      84\n8     78     130\n9     78     104\n10    44      48\n11    59      63\n12    79      83\n13    79     103\n14    45      30\n15    50      20\n16    60      45\n17    40      35\n18    45      25\n19    65      90\n20    65     150\n21    40      45\n22    63      60\n23    83      80\n24    83      80\n25    30      56\n26    55      81\n27    40      60\n28    65      90\n29    35      60\n30    60      85\n..   ...     ...\n771   95      65\n772   78      92\n773   67      58\n774   50      50\n775   45      50\n776   68      75\n777   90     100\n778   57      80\n779   43      70\n780   85     110\n781   49      66\n782   44      66\n783   54      66\n784   59      66\n785   65      90\n786   55      85\n787   75      95\n788   85     100\n789   55      69\n790   95     117\n791   40      30\n792   85      70\n793  126     131\n794  126     131\n795  108     100\n796   50     100\n797   50     160\n798   80     110\n799   80     160\n800   80     110\n\n[800 rows x 2 columns]",
            "text/html": "<div>\n<style scoped>\n    .dataframe tbody tr th:only-of-type {\n        vertical-align: middle;\n    }\n\n    .dataframe tbody tr th {\n        vertical-align: top;\n    }\n\n    .dataframe thead th {\n        text-align: right;\n    }\n</style>\n<table border=\"1\" class=\"dataframe\">\n  <thead>\n    <tr style=\"text-align: right;\">\n      <th></th>\n      <th>HP</th>\n      <th>Attack</th>\n    </tr>\n    <tr>\n      <th>#</th>\n      <th></th>\n      <th></th>\n    </tr>\n  </thead>\n  <tbody>\n    <tr>\n      <th>1</th>\n      <td>45</td>\n      <td>49</td>\n    </tr>\n    <tr>\n      <th>2</th>\n      <td>60</td>\n      <td>62</td>\n    </tr>\n    <tr>\n      <th>3</th>\n      <td>80</td>\n      <td>82</td>\n    </tr>\n    <tr>\n      <th>4</th>\n      <td>80</td>\n      <td>100</td>\n    </tr>\n    <tr>\n      <th>5</th>\n      <td>39</td>\n      <td>52</td>\n    </tr>\n    <tr>\n      <th>6</th>\n      <td>58</td>\n      <td>64</td>\n    </tr>\n    <tr>\n      <th>7</th>\n      <td>78</td>\n      <td>84</td>\n    </tr>\n    <tr>\n      <th>8</th>\n      <td>78</td>\n      <td>130</td>\n    </tr>\n    <tr>\n      <th>9</th>\n      <td>78</td>\n      <td>104</td>\n    </tr>\n    <tr>\n      <th>10</th>\n      <td>44</td>\n      <td>48</td>\n    </tr>\n    <tr>\n      <th>11</th>\n      <td>59</td>\n      <td>63</td>\n    </tr>\n    <tr>\n      <th>12</th>\n      <td>79</td>\n      <td>83</td>\n    </tr>\n    <tr>\n      <th>13</th>\n      <td>79</td>\n      <td>103</td>\n    </tr>\n    <tr>\n      <th>14</th>\n      <td>45</td>\n      <td>30</td>\n    </tr>\n    <tr>\n      <th>15</th>\n      <td>50</td>\n      <td>20</td>\n    </tr>\n    <tr>\n      <th>16</th>\n      <td>60</td>\n      <td>45</td>\n    </tr>\n    <tr>\n      <th>17</th>\n      <td>40</td>\n      <td>35</td>\n    </tr>\n    <tr>\n      <th>18</th>\n      <td>45</td>\n      <td>25</td>\n    </tr>\n    <tr>\n      <th>19</th>\n      <td>65</td>\n      <td>90</td>\n    </tr>\n    <tr>\n      <th>20</th>\n      <td>65</td>\n      <td>150</td>\n    </tr>\n    <tr>\n      <th>21</th>\n      <td>40</td>\n      <td>45</td>\n    </tr>\n    <tr>\n      <th>22</th>\n      <td>63</td>\n      <td>60</td>\n    </tr>\n    <tr>\n      <th>23</th>\n      <td>83</td>\n      <td>80</td>\n    </tr>\n    <tr>\n      <th>24</th>\n      <td>83</td>\n      <td>80</td>\n    </tr>\n    <tr>\n      <th>25</th>\n      <td>30</td>\n      <td>56</td>\n    </tr>\n    <tr>\n      <th>26</th>\n      <td>55</td>\n      <td>81</td>\n    </tr>\n    <tr>\n      <th>27</th>\n      <td>40</td>\n      <td>60</td>\n    </tr>\n    <tr>\n      <th>28</th>\n      <td>65</td>\n      <td>90</td>\n    </tr>\n    <tr>\n      <th>29</th>\n      <td>35</td>\n      <td>60</td>\n    </tr>\n    <tr>\n      <th>30</th>\n      <td>60</td>\n      <td>85</td>\n    </tr>\n    <tr>\n      <th>...</th>\n      <td>...</td>\n      <td>...</td>\n    </tr>\n    <tr>\n      <th>771</th>\n      <td>95</td>\n      <td>65</td>\n    </tr>\n    <tr>\n      <th>772</th>\n      <td>78</td>\n      <td>92</td>\n    </tr>\n    <tr>\n      <th>773</th>\n      <td>67</td>\n      <td>58</td>\n    </tr>\n    <tr>\n      <th>774</th>\n      <td>50</td>\n      <td>50</td>\n    </tr>\n    <tr>\n      <th>775</th>\n      <td>45</td>\n      <td>50</td>\n    </tr>\n    <tr>\n      <th>776</th>\n      <td>68</td>\n      <td>75</td>\n    </tr>\n    <tr>\n      <th>777</th>\n      <td>90</td>\n      <td>100</td>\n    </tr>\n    <tr>\n      <th>778</th>\n      <td>57</td>\n      <td>80</td>\n    </tr>\n    <tr>\n      <th>779</th>\n      <td>43</td>\n      <td>70</td>\n    </tr>\n    <tr>\n      <th>780</th>\n      <td>85</td>\n      <td>110</td>\n    </tr>\n    <tr>\n      <th>781</th>\n      <td>49</td>\n      <td>66</td>\n    </tr>\n    <tr>\n      <th>782</th>\n      <td>44</td>\n      <td>66</td>\n    </tr>\n    <tr>\n      <th>783</th>\n      <td>54</td>\n      <td>66</td>\n    </tr>\n    <tr>\n      <th>784</th>\n      <td>59</td>\n      <td>66</td>\n    </tr>\n    <tr>\n      <th>785</th>\n      <td>65</td>\n      <td>90</td>\n    </tr>\n    <tr>\n      <th>786</th>\n      <td>55</td>\n      <td>85</td>\n    </tr>\n    <tr>\n      <th>787</th>\n      <td>75</td>\n      <td>95</td>\n    </tr>\n    <tr>\n      <th>788</th>\n      <td>85</td>\n      <td>100</td>\n    </tr>\n    <tr>\n      <th>789</th>\n      <td>55</td>\n      <td>69</td>\n    </tr>\n    <tr>\n      <th>790</th>\n      <td>95</td>\n      <td>117</td>\n    </tr>\n    <tr>\n      <th>791</th>\n      <td>40</td>\n      <td>30</td>\n    </tr>\n    <tr>\n      <th>792</th>\n      <td>85</td>\n      <td>70</td>\n    </tr>\n    <tr>\n      <th>793</th>\n      <td>126</td>\n      <td>131</td>\n    </tr>\n    <tr>\n      <th>794</th>\n      <td>126</td>\n      <td>131</td>\n    </tr>\n    <tr>\n      <th>795</th>\n      <td>108</td>\n      <td>100</td>\n    </tr>\n    <tr>\n      <th>796</th>\n      <td>50</td>\n      <td>100</td>\n    </tr>\n    <tr>\n      <th>797</th>\n      <td>50</td>\n      <td>160</td>\n    </tr>\n    <tr>\n      <th>798</th>\n      <td>80</td>\n      <td>110</td>\n    </tr>\n    <tr>\n      <th>799</th>\n      <td>80</td>\n      <td>160</td>\n    </tr>\n    <tr>\n      <th>800</th>\n      <td>80</td>\n      <td>110</td>\n    </tr>\n  </tbody>\n</table>\n<p>800 rows × 2 columns</p>\n</div>"
          },
          "metadata": {}
        }
      ]
    },
    {
      "metadata": {
        "_uuid": "c336bda34ddd4567888096d0d6b6c35a73aab525"
      },
      "cell_type": "markdown",
      "source": "# Slicing Data Frame"
    },
    {
      "metadata": {
        "trusted": true,
        "_uuid": "fdc9cc97e664fda7414da8a769e012f47eb0b7d9"
      },
      "cell_type": "code",
      "source": "print(type(data['HP']))\nprint(type(data[['HP']]))",
      "execution_count": 21,
      "outputs": [
        {
          "output_type": "stream",
          "text": "<class 'pandas.core.series.Series'>\n<class 'pandas.core.frame.DataFrame'>\n",
          "name": "stdout"
        }
      ]
    },
    {
      "metadata": {
        "trusted": true,
        "_uuid": "dd43f3ffc0377986f8a4d8999916198137cc4991"
      },
      "cell_type": "code",
      "source": "data.loc[1:10,'HP':'Defense']",
      "execution_count": 22,
      "outputs": [
        {
          "output_type": "execute_result",
          "execution_count": 22,
          "data": {
            "text/plain": "    HP  Attack  Defense\n#                      \n1   45      49       49\n2   60      62       63\n3   80      82       83\n4   80     100      123\n5   39      52       43\n6   58      64       58\n7   78      84       78\n8   78     130      111\n9   78     104       78\n10  44      48       65",
            "text/html": "<div>\n<style scoped>\n    .dataframe tbody tr th:only-of-type {\n        vertical-align: middle;\n    }\n\n    .dataframe tbody tr th {\n        vertical-align: top;\n    }\n\n    .dataframe thead th {\n        text-align: right;\n    }\n</style>\n<table border=\"1\" class=\"dataframe\">\n  <thead>\n    <tr style=\"text-align: right;\">\n      <th></th>\n      <th>HP</th>\n      <th>Attack</th>\n      <th>Defense</th>\n    </tr>\n    <tr>\n      <th>#</th>\n      <th></th>\n      <th></th>\n      <th></th>\n    </tr>\n  </thead>\n  <tbody>\n    <tr>\n      <th>1</th>\n      <td>45</td>\n      <td>49</td>\n      <td>49</td>\n    </tr>\n    <tr>\n      <th>2</th>\n      <td>60</td>\n      <td>62</td>\n      <td>63</td>\n    </tr>\n    <tr>\n      <th>3</th>\n      <td>80</td>\n      <td>82</td>\n      <td>83</td>\n    </tr>\n    <tr>\n      <th>4</th>\n      <td>80</td>\n      <td>100</td>\n      <td>123</td>\n    </tr>\n    <tr>\n      <th>5</th>\n      <td>39</td>\n      <td>52</td>\n      <td>43</td>\n    </tr>\n    <tr>\n      <th>6</th>\n      <td>58</td>\n      <td>64</td>\n      <td>58</td>\n    </tr>\n    <tr>\n      <th>7</th>\n      <td>78</td>\n      <td>84</td>\n      <td>78</td>\n    </tr>\n    <tr>\n      <th>8</th>\n      <td>78</td>\n      <td>130</td>\n      <td>111</td>\n    </tr>\n    <tr>\n      <th>9</th>\n      <td>78</td>\n      <td>104</td>\n      <td>78</td>\n    </tr>\n    <tr>\n      <th>10</th>\n      <td>44</td>\n      <td>48</td>\n      <td>65</td>\n    </tr>\n  </tbody>\n</table>\n</div>"
          },
          "metadata": {}
        }
      ]
    },
    {
      "metadata": {
        "trusted": true,
        "_uuid": "7609bf7b76ad037e5ecfba24a6a1c4ed8412c3dd"
      },
      "cell_type": "code",
      "source": "data.loc[10:1:-1,'HP':'Defense']",
      "execution_count": 24,
      "outputs": [
        {
          "output_type": "execute_result",
          "execution_count": 24,
          "data": {
            "text/plain": "    HP  Attack  Defense\n#                      \n10  44      48       65\n9   78     104       78\n8   78     130      111\n7   78      84       78\n6   58      64       58\n5   39      52       43\n4   80     100      123\n3   80      82       83\n2   60      62       63\n1   45      49       49",
            "text/html": "<div>\n<style scoped>\n    .dataframe tbody tr th:only-of-type {\n        vertical-align: middle;\n    }\n\n    .dataframe tbody tr th {\n        vertical-align: top;\n    }\n\n    .dataframe thead th {\n        text-align: right;\n    }\n</style>\n<table border=\"1\" class=\"dataframe\">\n  <thead>\n    <tr style=\"text-align: right;\">\n      <th></th>\n      <th>HP</th>\n      <th>Attack</th>\n      <th>Defense</th>\n    </tr>\n    <tr>\n      <th>#</th>\n      <th></th>\n      <th></th>\n      <th></th>\n    </tr>\n  </thead>\n  <tbody>\n    <tr>\n      <th>10</th>\n      <td>44</td>\n      <td>48</td>\n      <td>65</td>\n    </tr>\n    <tr>\n      <th>9</th>\n      <td>78</td>\n      <td>104</td>\n      <td>78</td>\n    </tr>\n    <tr>\n      <th>8</th>\n      <td>78</td>\n      <td>130</td>\n      <td>111</td>\n    </tr>\n    <tr>\n      <th>7</th>\n      <td>78</td>\n      <td>84</td>\n      <td>78</td>\n    </tr>\n    <tr>\n      <th>6</th>\n      <td>58</td>\n      <td>64</td>\n      <td>58</td>\n    </tr>\n    <tr>\n      <th>5</th>\n      <td>39</td>\n      <td>52</td>\n      <td>43</td>\n    </tr>\n    <tr>\n      <th>4</th>\n      <td>80</td>\n      <td>100</td>\n      <td>123</td>\n    </tr>\n    <tr>\n      <th>3</th>\n      <td>80</td>\n      <td>82</td>\n      <td>83</td>\n    </tr>\n    <tr>\n      <th>2</th>\n      <td>60</td>\n      <td>62</td>\n      <td>63</td>\n    </tr>\n    <tr>\n      <th>1</th>\n      <td>45</td>\n      <td>49</td>\n      <td>49</td>\n    </tr>\n  </tbody>\n</table>\n</div>"
          },
          "metadata": {}
        }
      ]
    },
    {
      "metadata": {
        "trusted": true,
        "_uuid": "e4a27e632f6a662704aef884ebe8eaf00238ed01"
      },
      "cell_type": "code",
      "source": "data.loc[1:10,'Speed':]",
      "execution_count": 26,
      "outputs": [
        {
          "output_type": "execute_result",
          "execution_count": 26,
          "data": {
            "text/plain": "    Speed  Generation  Legendary\n#                               \n1      45           1      False\n2      60           1      False\n3      80           1      False\n4      80           1      False\n5      65           1      False\n6      80           1      False\n7     100           1      False\n8     100           1      False\n9     100           1      False\n10     43           1      False",
            "text/html": "<div>\n<style scoped>\n    .dataframe tbody tr th:only-of-type {\n        vertical-align: middle;\n    }\n\n    .dataframe tbody tr th {\n        vertical-align: top;\n    }\n\n    .dataframe thead th {\n        text-align: right;\n    }\n</style>\n<table border=\"1\" class=\"dataframe\">\n  <thead>\n    <tr style=\"text-align: right;\">\n      <th></th>\n      <th>Speed</th>\n      <th>Generation</th>\n      <th>Legendary</th>\n    </tr>\n    <tr>\n      <th>#</th>\n      <th></th>\n      <th></th>\n      <th></th>\n    </tr>\n  </thead>\n  <tbody>\n    <tr>\n      <th>1</th>\n      <td>45</td>\n      <td>1</td>\n      <td>False</td>\n    </tr>\n    <tr>\n      <th>2</th>\n      <td>60</td>\n      <td>1</td>\n      <td>False</td>\n    </tr>\n    <tr>\n      <th>3</th>\n      <td>80</td>\n      <td>1</td>\n      <td>False</td>\n    </tr>\n    <tr>\n      <th>4</th>\n      <td>80</td>\n      <td>1</td>\n      <td>False</td>\n    </tr>\n    <tr>\n      <th>5</th>\n      <td>65</td>\n      <td>1</td>\n      <td>False</td>\n    </tr>\n    <tr>\n      <th>6</th>\n      <td>80</td>\n      <td>1</td>\n      <td>False</td>\n    </tr>\n    <tr>\n      <th>7</th>\n      <td>100</td>\n      <td>1</td>\n      <td>False</td>\n    </tr>\n    <tr>\n      <th>8</th>\n      <td>100</td>\n      <td>1</td>\n      <td>False</td>\n    </tr>\n    <tr>\n      <th>9</th>\n      <td>100</td>\n      <td>1</td>\n      <td>False</td>\n    </tr>\n    <tr>\n      <th>10</th>\n      <td>43</td>\n      <td>1</td>\n      <td>False</td>\n    </tr>\n  </tbody>\n</table>\n</div>"
          },
          "metadata": {}
        }
      ]
    },
    {
      "metadata": {
        "_uuid": "95d892c7771701dcbad204284307fe036cda888b"
      },
      "cell_type": "markdown",
      "source": "# Filtering Data Frames"
    },
    {
      "metadata": {
        "trusted": true,
        "_uuid": "9cbf5c46a1b21fb640c3c8abdffbabbc94e10b2d"
      },
      "cell_type": "code",
      "source": "boolean = data.HP >200\ndata[boolean]",
      "execution_count": 27,
      "outputs": [
        {
          "output_type": "execute_result",
          "execution_count": 27,
          "data": {
            "text/plain": "        Name  Type 1 Type 2    ...      Speed  Generation  Legendary\n#                              ...                                  \n122  Chansey  Normal    NaN    ...         50           1      False\n262  Blissey  Normal    NaN    ...         55           2      False\n\n[2 rows x 11 columns]",
            "text/html": "<div>\n<style scoped>\n    .dataframe tbody tr th:only-of-type {\n        vertical-align: middle;\n    }\n\n    .dataframe tbody tr th {\n        vertical-align: top;\n    }\n\n    .dataframe thead th {\n        text-align: right;\n    }\n</style>\n<table border=\"1\" class=\"dataframe\">\n  <thead>\n    <tr style=\"text-align: right;\">\n      <th></th>\n      <th>Name</th>\n      <th>Type 1</th>\n      <th>Type 2</th>\n      <th>HP</th>\n      <th>Attack</th>\n      <th>Defense</th>\n      <th>Sp. Atk</th>\n      <th>Sp. Def</th>\n      <th>Speed</th>\n      <th>Generation</th>\n      <th>Legendary</th>\n    </tr>\n    <tr>\n      <th>#</th>\n      <th></th>\n      <th></th>\n      <th></th>\n      <th></th>\n      <th></th>\n      <th></th>\n      <th></th>\n      <th></th>\n      <th></th>\n      <th></th>\n      <th></th>\n    </tr>\n  </thead>\n  <tbody>\n    <tr>\n      <th>122</th>\n      <td>Chansey</td>\n      <td>Normal</td>\n      <td>NaN</td>\n      <td>250</td>\n      <td>5</td>\n      <td>5</td>\n      <td>35</td>\n      <td>105</td>\n      <td>50</td>\n      <td>1</td>\n      <td>False</td>\n    </tr>\n    <tr>\n      <th>262</th>\n      <td>Blissey</td>\n      <td>Normal</td>\n      <td>NaN</td>\n      <td>255</td>\n      <td>10</td>\n      <td>10</td>\n      <td>75</td>\n      <td>135</td>\n      <td>55</td>\n      <td>2</td>\n      <td>False</td>\n    </tr>\n  </tbody>\n</table>\n</div>"
          },
          "metadata": {}
        }
      ]
    },
    {
      "metadata": {
        "trusted": true,
        "_uuid": "75f390aeac99f2fcdbd3c0c8603370ed8e28814b"
      },
      "cell_type": "code",
      "source": "first_filter = data.HP >150\nsecond_filter = data.Speed >35\ndata[first_filter & second_filter]",
      "execution_count": 28,
      "outputs": [
        {
          "output_type": "execute_result",
          "execution_count": 28,
          "data": {
            "text/plain": "          Name  Type 1 Type 2    ...      Speed  Generation  Legendary\n#                                ...                                  \n122    Chansey  Normal    NaN    ...         50           1      False\n262    Blissey  Normal    NaN    ...         55           2      False\n352    Wailord   Water    NaN    ...         60           3      False\n656  Alomomola   Water    NaN    ...         65           5      False\n\n[4 rows x 11 columns]",
            "text/html": "<div>\n<style scoped>\n    .dataframe tbody tr th:only-of-type {\n        vertical-align: middle;\n    }\n\n    .dataframe tbody tr th {\n        vertical-align: top;\n    }\n\n    .dataframe thead th {\n        text-align: right;\n    }\n</style>\n<table border=\"1\" class=\"dataframe\">\n  <thead>\n    <tr style=\"text-align: right;\">\n      <th></th>\n      <th>Name</th>\n      <th>Type 1</th>\n      <th>Type 2</th>\n      <th>HP</th>\n      <th>Attack</th>\n      <th>Defense</th>\n      <th>Sp. Atk</th>\n      <th>Sp. Def</th>\n      <th>Speed</th>\n      <th>Generation</th>\n      <th>Legendary</th>\n    </tr>\n    <tr>\n      <th>#</th>\n      <th></th>\n      <th></th>\n      <th></th>\n      <th></th>\n      <th></th>\n      <th></th>\n      <th></th>\n      <th></th>\n      <th></th>\n      <th></th>\n      <th></th>\n    </tr>\n  </thead>\n  <tbody>\n    <tr>\n      <th>122</th>\n      <td>Chansey</td>\n      <td>Normal</td>\n      <td>NaN</td>\n      <td>250</td>\n      <td>5</td>\n      <td>5</td>\n      <td>35</td>\n      <td>105</td>\n      <td>50</td>\n      <td>1</td>\n      <td>False</td>\n    </tr>\n    <tr>\n      <th>262</th>\n      <td>Blissey</td>\n      <td>Normal</td>\n      <td>NaN</td>\n      <td>255</td>\n      <td>10</td>\n      <td>10</td>\n      <td>75</td>\n      <td>135</td>\n      <td>55</td>\n      <td>2</td>\n      <td>False</td>\n    </tr>\n    <tr>\n      <th>352</th>\n      <td>Wailord</td>\n      <td>Water</td>\n      <td>NaN</td>\n      <td>170</td>\n      <td>90</td>\n      <td>45</td>\n      <td>90</td>\n      <td>45</td>\n      <td>60</td>\n      <td>3</td>\n      <td>False</td>\n    </tr>\n    <tr>\n      <th>656</th>\n      <td>Alomomola</td>\n      <td>Water</td>\n      <td>NaN</td>\n      <td>165</td>\n      <td>75</td>\n      <td>80</td>\n      <td>40</td>\n      <td>45</td>\n      <td>65</td>\n      <td>5</td>\n      <td>False</td>\n    </tr>\n  </tbody>\n</table>\n</div>"
          },
          "metadata": {}
        }
      ]
    },
    {
      "metadata": {
        "trusted": true,
        "_uuid": "16fd784f0a788bc6198c38daed88046d867147f7"
      },
      "cell_type": "code",
      "source": "data.HP[data.Speed<15]",
      "execution_count": 29,
      "outputs": [
        {
          "output_type": "execute_result",
          "execution_count": 29,
          "data": {
            "text/plain": "#\n231     20\n360     45\n487     50\n496    135\n659     44\nName: HP, dtype: int64"
          },
          "metadata": {}
        }
      ]
    },
    {
      "metadata": {
        "_uuid": "be33463daddae1aa7c794a945cf4fca7c6572a7f"
      },
      "cell_type": "markdown",
      "source": "# Transforming Data"
    },
    {
      "metadata": {
        "trusted": true,
        "_uuid": "c324c7569aec7830eb09d13a437126caa8a022e2"
      },
      "cell_type": "code",
      "source": "def div(n):\n    return n/2\ndata.HP.apply(div)",
      "execution_count": 30,
      "outputs": [
        {
          "output_type": "execute_result",
          "execution_count": 30,
          "data": {
            "text/plain": "#\n1      22.5\n2      30.0\n3      40.0\n4      40.0\n5      19.5\n6      29.0\n7      39.0\n8      39.0\n9      39.0\n10     22.0\n11     29.5\n12     39.5\n13     39.5\n14     22.5\n15     25.0\n16     30.0\n17     20.0\n18     22.5\n19     32.5\n20     32.5\n21     20.0\n22     31.5\n23     41.5\n24     41.5\n25     15.0\n26     27.5\n27     20.0\n28     32.5\n29     17.5\n30     30.0\n       ... \n771    47.5\n772    39.0\n773    33.5\n774    25.0\n775    22.5\n776    34.0\n777    45.0\n778    28.5\n779    21.5\n780    42.5\n781    24.5\n782    22.0\n783    27.0\n784    29.5\n785    32.5\n786    27.5\n787    37.5\n788    42.5\n789    27.5\n790    47.5\n791    20.0\n792    42.5\n793    63.0\n794    63.0\n795    54.0\n796    25.0\n797    25.0\n798    40.0\n799    40.0\n800    40.0\nName: HP, Length: 800, dtype: float64"
          },
          "metadata": {}
        }
      ]
    },
    {
      "metadata": {
        "trusted": true,
        "_uuid": "b295ffc0891f394751cf8a3284c3af177ebde2cb"
      },
      "cell_type": "code",
      "source": "data.HP.apply(lambda n:n/2)",
      "execution_count": 32,
      "outputs": [
        {
          "output_type": "execute_result",
          "execution_count": 32,
          "data": {
            "text/plain": "#\n1      22.5\n2      30.0\n3      40.0\n4      40.0\n5      19.5\n6      29.0\n7      39.0\n8      39.0\n9      39.0\n10     22.0\n11     29.5\n12     39.5\n13     39.5\n14     22.5\n15     25.0\n16     30.0\n17     20.0\n18     22.5\n19     32.5\n20     32.5\n21     20.0\n22     31.5\n23     41.5\n24     41.5\n25     15.0\n26     27.5\n27     20.0\n28     32.5\n29     17.5\n30     30.0\n       ... \n771    47.5\n772    39.0\n773    33.5\n774    25.0\n775    22.5\n776    34.0\n777    45.0\n778    28.5\n779    21.5\n780    42.5\n781    24.5\n782    22.0\n783    27.0\n784    29.5\n785    32.5\n786    27.5\n787    37.5\n788    42.5\n789    27.5\n790    47.5\n791    20.0\n792    42.5\n793    63.0\n794    63.0\n795    54.0\n796    25.0\n797    25.0\n798    40.0\n799    40.0\n800    40.0\nName: HP, Length: 800, dtype: float64"
          },
          "metadata": {}
        }
      ]
    },
    {
      "metadata": {
        "trusted": true,
        "_uuid": "07cba85a9f37e21fe711f148e71f52716cc2fc48"
      },
      "cell_type": "code",
      "source": "data[\"total_power\"] = data.Attack + data.Defense\ndata.head()",
      "execution_count": 33,
      "outputs": [
        {
          "output_type": "execute_result",
          "execution_count": 33,
          "data": {
            "text/plain": "            Name Type 1  Type 2     ...       Generation  Legendary  total_power\n#                                   ...                                         \n1      Bulbasaur  Grass  Poison     ...                1      False           98\n2        Ivysaur  Grass  Poison     ...                1      False          125\n3       Venusaur  Grass  Poison     ...                1      False          165\n4  Mega Venusaur  Grass  Poison     ...                1      False          223\n5     Charmander   Fire     NaN     ...                1      False           95\n\n[5 rows x 12 columns]",
            "text/html": "<div>\n<style scoped>\n    .dataframe tbody tr th:only-of-type {\n        vertical-align: middle;\n    }\n\n    .dataframe tbody tr th {\n        vertical-align: top;\n    }\n\n    .dataframe thead th {\n        text-align: right;\n    }\n</style>\n<table border=\"1\" class=\"dataframe\">\n  <thead>\n    <tr style=\"text-align: right;\">\n      <th></th>\n      <th>Name</th>\n      <th>Type 1</th>\n      <th>Type 2</th>\n      <th>HP</th>\n      <th>Attack</th>\n      <th>Defense</th>\n      <th>Sp. Atk</th>\n      <th>Sp. Def</th>\n      <th>Speed</th>\n      <th>Generation</th>\n      <th>Legendary</th>\n      <th>total_power</th>\n    </tr>\n    <tr>\n      <th>#</th>\n      <th></th>\n      <th></th>\n      <th></th>\n      <th></th>\n      <th></th>\n      <th></th>\n      <th></th>\n      <th></th>\n      <th></th>\n      <th></th>\n      <th></th>\n      <th></th>\n    </tr>\n  </thead>\n  <tbody>\n    <tr>\n      <th>1</th>\n      <td>Bulbasaur</td>\n      <td>Grass</td>\n      <td>Poison</td>\n      <td>45</td>\n      <td>49</td>\n      <td>49</td>\n      <td>65</td>\n      <td>65</td>\n      <td>45</td>\n      <td>1</td>\n      <td>False</td>\n      <td>98</td>\n    </tr>\n    <tr>\n      <th>2</th>\n      <td>Ivysaur</td>\n      <td>Grass</td>\n      <td>Poison</td>\n      <td>60</td>\n      <td>62</td>\n      <td>63</td>\n      <td>80</td>\n      <td>80</td>\n      <td>60</td>\n      <td>1</td>\n      <td>False</td>\n      <td>125</td>\n    </tr>\n    <tr>\n      <th>3</th>\n      <td>Venusaur</td>\n      <td>Grass</td>\n      <td>Poison</td>\n      <td>80</td>\n      <td>82</td>\n      <td>83</td>\n      <td>100</td>\n      <td>100</td>\n      <td>80</td>\n      <td>1</td>\n      <td>False</td>\n      <td>165</td>\n    </tr>\n    <tr>\n      <th>4</th>\n      <td>Mega Venusaur</td>\n      <td>Grass</td>\n      <td>Poison</td>\n      <td>80</td>\n      <td>100</td>\n      <td>123</td>\n      <td>122</td>\n      <td>120</td>\n      <td>80</td>\n      <td>1</td>\n      <td>False</td>\n      <td>223</td>\n    </tr>\n    <tr>\n      <th>5</th>\n      <td>Charmander</td>\n      <td>Fire</td>\n      <td>NaN</td>\n      <td>39</td>\n      <td>52</td>\n      <td>43</td>\n      <td>60</td>\n      <td>50</td>\n      <td>65</td>\n      <td>1</td>\n      <td>False</td>\n      <td>95</td>\n    </tr>\n  </tbody>\n</table>\n</div>"
          },
          "metadata": {}
        }
      ]
    },
    {
      "metadata": {
        "_uuid": "fc11f6d66dfda69114398ef906fa059b290cad9f"
      },
      "cell_type": "markdown",
      "source": "# İndex Objects And Labeled Data"
    },
    {
      "metadata": {
        "trusted": true,
        "_uuid": "12f4e1771ce8144e90477b53317a00a8ef9cf727"
      },
      "cell_type": "code",
      "source": "print(data.index.name)\ndata.index.name = 'index_name'\ndata.head()",
      "execution_count": 34,
      "outputs": [
        {
          "output_type": "stream",
          "text": "#\n",
          "name": "stdout"
        },
        {
          "output_type": "execute_result",
          "execution_count": 34,
          "data": {
            "text/plain": "                     Name Type 1     ...      Legendary  total_power\nindex_name                           ...                            \n1               Bulbasaur  Grass     ...          False           98\n2                 Ivysaur  Grass     ...          False          125\n3                Venusaur  Grass     ...          False          165\n4           Mega Venusaur  Grass     ...          False          223\n5              Charmander   Fire     ...          False           95\n\n[5 rows x 12 columns]",
            "text/html": "<div>\n<style scoped>\n    .dataframe tbody tr th:only-of-type {\n        vertical-align: middle;\n    }\n\n    .dataframe tbody tr th {\n        vertical-align: top;\n    }\n\n    .dataframe thead th {\n        text-align: right;\n    }\n</style>\n<table border=\"1\" class=\"dataframe\">\n  <thead>\n    <tr style=\"text-align: right;\">\n      <th></th>\n      <th>Name</th>\n      <th>Type 1</th>\n      <th>Type 2</th>\n      <th>HP</th>\n      <th>Attack</th>\n      <th>Defense</th>\n      <th>Sp. Atk</th>\n      <th>Sp. Def</th>\n      <th>Speed</th>\n      <th>Generation</th>\n      <th>Legendary</th>\n      <th>total_power</th>\n    </tr>\n    <tr>\n      <th>index_name</th>\n      <th></th>\n      <th></th>\n      <th></th>\n      <th></th>\n      <th></th>\n      <th></th>\n      <th></th>\n      <th></th>\n      <th></th>\n      <th></th>\n      <th></th>\n      <th></th>\n    </tr>\n  </thead>\n  <tbody>\n    <tr>\n      <th>1</th>\n      <td>Bulbasaur</td>\n      <td>Grass</td>\n      <td>Poison</td>\n      <td>45</td>\n      <td>49</td>\n      <td>49</td>\n      <td>65</td>\n      <td>65</td>\n      <td>45</td>\n      <td>1</td>\n      <td>False</td>\n      <td>98</td>\n    </tr>\n    <tr>\n      <th>2</th>\n      <td>Ivysaur</td>\n      <td>Grass</td>\n      <td>Poison</td>\n      <td>60</td>\n      <td>62</td>\n      <td>63</td>\n      <td>80</td>\n      <td>80</td>\n      <td>60</td>\n      <td>1</td>\n      <td>False</td>\n      <td>125</td>\n    </tr>\n    <tr>\n      <th>3</th>\n      <td>Venusaur</td>\n      <td>Grass</td>\n      <td>Poison</td>\n      <td>80</td>\n      <td>82</td>\n      <td>83</td>\n      <td>100</td>\n      <td>100</td>\n      <td>80</td>\n      <td>1</td>\n      <td>False</td>\n      <td>165</td>\n    </tr>\n    <tr>\n      <th>4</th>\n      <td>Mega Venusaur</td>\n      <td>Grass</td>\n      <td>Poison</td>\n      <td>80</td>\n      <td>100</td>\n      <td>123</td>\n      <td>122</td>\n      <td>120</td>\n      <td>80</td>\n      <td>1</td>\n      <td>False</td>\n      <td>223</td>\n    </tr>\n    <tr>\n      <th>5</th>\n      <td>Charmander</td>\n      <td>Fire</td>\n      <td>NaN</td>\n      <td>39</td>\n      <td>52</td>\n      <td>43</td>\n      <td>60</td>\n      <td>50</td>\n      <td>65</td>\n      <td>1</td>\n      <td>False</td>\n      <td>95</td>\n    </tr>\n  </tbody>\n</table>\n</div>"
          },
          "metadata": {}
        }
      ]
    },
    {
      "metadata": {
        "trusted": true,
        "_uuid": "924f4b2618fa77a93ff7a0a0cb88d2f19a6dc824"
      },
      "cell_type": "code",
      "source": "data.head()",
      "execution_count": 35,
      "outputs": [
        {
          "output_type": "execute_result",
          "execution_count": 35,
          "data": {
            "text/plain": "                     Name Type 1     ...      Legendary  total_power\nindex_name                           ...                            \n1               Bulbasaur  Grass     ...          False           98\n2                 Ivysaur  Grass     ...          False          125\n3                Venusaur  Grass     ...          False          165\n4           Mega Venusaur  Grass     ...          False          223\n5              Charmander   Fire     ...          False           95\n\n[5 rows x 12 columns]",
            "text/html": "<div>\n<style scoped>\n    .dataframe tbody tr th:only-of-type {\n        vertical-align: middle;\n    }\n\n    .dataframe tbody tr th {\n        vertical-align: top;\n    }\n\n    .dataframe thead th {\n        text-align: right;\n    }\n</style>\n<table border=\"1\" class=\"dataframe\">\n  <thead>\n    <tr style=\"text-align: right;\">\n      <th></th>\n      <th>Name</th>\n      <th>Type 1</th>\n      <th>Type 2</th>\n      <th>HP</th>\n      <th>Attack</th>\n      <th>Defense</th>\n      <th>Sp. Atk</th>\n      <th>Sp. Def</th>\n      <th>Speed</th>\n      <th>Generation</th>\n      <th>Legendary</th>\n      <th>total_power</th>\n    </tr>\n    <tr>\n      <th>index_name</th>\n      <th></th>\n      <th></th>\n      <th></th>\n      <th></th>\n      <th></th>\n      <th></th>\n      <th></th>\n      <th></th>\n      <th></th>\n      <th></th>\n      <th></th>\n      <th></th>\n    </tr>\n  </thead>\n  <tbody>\n    <tr>\n      <th>1</th>\n      <td>Bulbasaur</td>\n      <td>Grass</td>\n      <td>Poison</td>\n      <td>45</td>\n      <td>49</td>\n      <td>49</td>\n      <td>65</td>\n      <td>65</td>\n      <td>45</td>\n      <td>1</td>\n      <td>False</td>\n      <td>98</td>\n    </tr>\n    <tr>\n      <th>2</th>\n      <td>Ivysaur</td>\n      <td>Grass</td>\n      <td>Poison</td>\n      <td>60</td>\n      <td>62</td>\n      <td>63</td>\n      <td>80</td>\n      <td>80</td>\n      <td>60</td>\n      <td>1</td>\n      <td>False</td>\n      <td>125</td>\n    </tr>\n    <tr>\n      <th>3</th>\n      <td>Venusaur</td>\n      <td>Grass</td>\n      <td>Poison</td>\n      <td>80</td>\n      <td>82</td>\n      <td>83</td>\n      <td>100</td>\n      <td>100</td>\n      <td>80</td>\n      <td>1</td>\n      <td>False</td>\n      <td>165</td>\n    </tr>\n    <tr>\n      <th>4</th>\n      <td>Mega Venusaur</td>\n      <td>Grass</td>\n      <td>Poison</td>\n      <td>80</td>\n      <td>100</td>\n      <td>123</td>\n      <td>122</td>\n      <td>120</td>\n      <td>80</td>\n      <td>1</td>\n      <td>False</td>\n      <td>223</td>\n    </tr>\n    <tr>\n      <th>5</th>\n      <td>Charmander</td>\n      <td>Fire</td>\n      <td>NaN</td>\n      <td>39</td>\n      <td>52</td>\n      <td>43</td>\n      <td>60</td>\n      <td>50</td>\n      <td>65</td>\n      <td>1</td>\n      <td>False</td>\n      <td>95</td>\n    </tr>\n  </tbody>\n</table>\n</div>"
          },
          "metadata": {}
        }
      ]
    },
    {
      "metadata": {
        "trusted": true,
        "_uuid": "4868df21341679f3ca97c4d23854098609a38cdb"
      },
      "cell_type": "code",
      "source": "data3 = data.copy()\ndata3.index = range(100,900,1)\ndata3.head()",
      "execution_count": 36,
      "outputs": [
        {
          "output_type": "execute_result",
          "execution_count": 36,
          "data": {
            "text/plain": "              Name Type 1     ...      Legendary  total_power\n100      Bulbasaur  Grass     ...          False           98\n101        Ivysaur  Grass     ...          False          125\n102       Venusaur  Grass     ...          False          165\n103  Mega Venusaur  Grass     ...          False          223\n104     Charmander   Fire     ...          False           95\n\n[5 rows x 12 columns]",
            "text/html": "<div>\n<style scoped>\n    .dataframe tbody tr th:only-of-type {\n        vertical-align: middle;\n    }\n\n    .dataframe tbody tr th {\n        vertical-align: top;\n    }\n\n    .dataframe thead th {\n        text-align: right;\n    }\n</style>\n<table border=\"1\" class=\"dataframe\">\n  <thead>\n    <tr style=\"text-align: right;\">\n      <th></th>\n      <th>Name</th>\n      <th>Type 1</th>\n      <th>Type 2</th>\n      <th>HP</th>\n      <th>Attack</th>\n      <th>Defense</th>\n      <th>Sp. Atk</th>\n      <th>Sp. Def</th>\n      <th>Speed</th>\n      <th>Generation</th>\n      <th>Legendary</th>\n      <th>total_power</th>\n    </tr>\n  </thead>\n  <tbody>\n    <tr>\n      <th>100</th>\n      <td>Bulbasaur</td>\n      <td>Grass</td>\n      <td>Poison</td>\n      <td>45</td>\n      <td>49</td>\n      <td>49</td>\n      <td>65</td>\n      <td>65</td>\n      <td>45</td>\n      <td>1</td>\n      <td>False</td>\n      <td>98</td>\n    </tr>\n    <tr>\n      <th>101</th>\n      <td>Ivysaur</td>\n      <td>Grass</td>\n      <td>Poison</td>\n      <td>60</td>\n      <td>62</td>\n      <td>63</td>\n      <td>80</td>\n      <td>80</td>\n      <td>60</td>\n      <td>1</td>\n      <td>False</td>\n      <td>125</td>\n    </tr>\n    <tr>\n      <th>102</th>\n      <td>Venusaur</td>\n      <td>Grass</td>\n      <td>Poison</td>\n      <td>80</td>\n      <td>82</td>\n      <td>83</td>\n      <td>100</td>\n      <td>100</td>\n      <td>80</td>\n      <td>1</td>\n      <td>False</td>\n      <td>165</td>\n    </tr>\n    <tr>\n      <th>103</th>\n      <td>Mega Venusaur</td>\n      <td>Grass</td>\n      <td>Poison</td>\n      <td>80</td>\n      <td>100</td>\n      <td>123</td>\n      <td>122</td>\n      <td>120</td>\n      <td>80</td>\n      <td>1</td>\n      <td>False</td>\n      <td>223</td>\n    </tr>\n    <tr>\n      <th>104</th>\n      <td>Charmander</td>\n      <td>Fire</td>\n      <td>NaN</td>\n      <td>39</td>\n      <td>52</td>\n      <td>43</td>\n      <td>60</td>\n      <td>50</td>\n      <td>65</td>\n      <td>1</td>\n      <td>False</td>\n      <td>95</td>\n    </tr>\n  </tbody>\n</table>\n</div>"
          },
          "metadata": {}
        }
      ]
    },
    {
      "metadata": {
        "_uuid": "add17bcdcedfd3ba05b4df149dcb6d540d8c8924"
      },
      "cell_type": "markdown",
      "source": "# Hierarchical Indexing"
    },
    {
      "metadata": {
        "trusted": true,
        "_uuid": "5c8c225ed521b8797301549167bea82302c53dd8"
      },
      "cell_type": "code",
      "source": "data1 = data.set_index([\"Type 1\",\"Type 2\"]) \ndata1.head(100)",
      "execution_count": 37,
      "outputs": [
        {
          "output_type": "execute_result",
          "execution_count": 37,
          "data": {
            "text/plain": "                              Name   HP     ...       Legendary  total_power\nType 1   Type 2                             ...                             \nGrass    Poison          Bulbasaur   45     ...           False           98\n         Poison            Ivysaur   60     ...           False          125\n         Poison           Venusaur   80     ...           False          165\n         Poison      Mega Venusaur   80     ...           False          223\nFire     NaN            Charmander   39     ...           False           95\n         NaN            Charmeleon   58     ...           False          122\n         Flying          Charizard   78     ...           False          162\n         Dragon   Mega Charizard X   78     ...           False          241\n         Flying   Mega Charizard Y   78     ...           False          182\nWater    NaN              Squirtle   44     ...           False          113\n         NaN             Wartortle   59     ...           False          143\n         NaN             Blastoise   79     ...           False          183\n         NaN        Mega Blastoise   79     ...           False          223\nBug      NaN              Caterpie   45     ...           False           65\n         NaN               Metapod   50     ...           False           75\n         Flying         Butterfree   60     ...           False           95\n         Poison             Weedle   40     ...           False           65\n         Poison             Kakuna   45     ...           False           75\n         Poison           Beedrill   65     ...           False          130\n         Poison      Mega Beedrill   65     ...           False          190\nNormal   Flying             Pidgey   40     ...           False           85\n         Flying          Pidgeotto   63     ...           False          115\n         Flying            Pidgeot   83     ...           False          155\n         Flying       Mega Pidgeot   83     ...           False          160\n         NaN               Rattata   30     ...           False           91\n         NaN              Raticate   55     ...           False          141\n         Flying            Spearow   40     ...           False           90\n         Flying             Fearow   65     ...           False          155\nPoison   NaN                 Ekans   35     ...           False          104\n         NaN                 Arbok   60     ...           False          154\n...                            ...  ...     ...             ...          ...\nPsychic  NaN              Alakazam   55     ...           False           95\n         NaN         Mega Alakazam   55     ...           False          115\nFighting NaN                Machop   70     ...           False          130\n         NaN               Machoke   80     ...           False          170\n         NaN               Machamp   90     ...           False          210\nGrass    Poison         Bellsprout   50     ...           False          110\n         Poison         Weepinbell   65     ...           False          140\n         Poison         Victreebel   80     ...           False          170\nWater    Poison          Tentacool   40     ...           False           75\n         Poison         Tentacruel   80     ...           False          135\nRock     Ground            Geodude   40     ...           False          180\n         Ground           Graveler   55     ...           False          210\n         Ground              Golem   80     ...           False          250\nFire     NaN                Ponyta   50     ...           False          140\n         NaN              Rapidash   65     ...           False          170\nWater    Psychic          Slowpoke   90     ...           False          130\n         Psychic           Slowbro   95     ...           False          185\n         Psychic      Mega Slowbro   95     ...           False          255\nElectric Steel           Magnemite   25     ...           False          105\n         Steel            Magneton   50     ...           False          155\nNormal   Flying         Farfetch'd   52     ...           False          120\n         Flying              Doduo   35     ...           False          130\n         Flying             Dodrio   60     ...           False          180\nWater    NaN                  Seel   65     ...           False          100\n         Ice               Dewgong   90     ...           False          150\nPoison   NaN                Grimer   80     ...           False          130\n         NaN                   Muk  105     ...           False          180\nWater    NaN              Shellder   30     ...           False          165\n         Ice              Cloyster   50     ...           False          275\nGhost    Poison             Gastly   30     ...           False           65\n\n[100 rows x 10 columns]",
            "text/html": "<div>\n<style scoped>\n    .dataframe tbody tr th:only-of-type {\n        vertical-align: middle;\n    }\n\n    .dataframe tbody tr th {\n        vertical-align: top;\n    }\n\n    .dataframe thead th {\n        text-align: right;\n    }\n</style>\n<table border=\"1\" class=\"dataframe\">\n  <thead>\n    <tr style=\"text-align: right;\">\n      <th></th>\n      <th></th>\n      <th>Name</th>\n      <th>HP</th>\n      <th>Attack</th>\n      <th>Defense</th>\n      <th>Sp. Atk</th>\n      <th>Sp. Def</th>\n      <th>Speed</th>\n      <th>Generation</th>\n      <th>Legendary</th>\n      <th>total_power</th>\n    </tr>\n    <tr>\n      <th>Type 1</th>\n      <th>Type 2</th>\n      <th></th>\n      <th></th>\n      <th></th>\n      <th></th>\n      <th></th>\n      <th></th>\n      <th></th>\n      <th></th>\n      <th></th>\n      <th></th>\n    </tr>\n  </thead>\n  <tbody>\n    <tr>\n      <th rowspan=\"4\" valign=\"top\">Grass</th>\n      <th>Poison</th>\n      <td>Bulbasaur</td>\n      <td>45</td>\n      <td>49</td>\n      <td>49</td>\n      <td>65</td>\n      <td>65</td>\n      <td>45</td>\n      <td>1</td>\n      <td>False</td>\n      <td>98</td>\n    </tr>\n    <tr>\n      <th>Poison</th>\n      <td>Ivysaur</td>\n      <td>60</td>\n      <td>62</td>\n      <td>63</td>\n      <td>80</td>\n      <td>80</td>\n      <td>60</td>\n      <td>1</td>\n      <td>False</td>\n      <td>125</td>\n    </tr>\n    <tr>\n      <th>Poison</th>\n      <td>Venusaur</td>\n      <td>80</td>\n      <td>82</td>\n      <td>83</td>\n      <td>100</td>\n      <td>100</td>\n      <td>80</td>\n      <td>1</td>\n      <td>False</td>\n      <td>165</td>\n    </tr>\n    <tr>\n      <th>Poison</th>\n      <td>Mega Venusaur</td>\n      <td>80</td>\n      <td>100</td>\n      <td>123</td>\n      <td>122</td>\n      <td>120</td>\n      <td>80</td>\n      <td>1</td>\n      <td>False</td>\n      <td>223</td>\n    </tr>\n    <tr>\n      <th rowspan=\"5\" valign=\"top\">Fire</th>\n      <th>NaN</th>\n      <td>Charmander</td>\n      <td>39</td>\n      <td>52</td>\n      <td>43</td>\n      <td>60</td>\n      <td>50</td>\n      <td>65</td>\n      <td>1</td>\n      <td>False</td>\n      <td>95</td>\n    </tr>\n    <tr>\n      <th>NaN</th>\n      <td>Charmeleon</td>\n      <td>58</td>\n      <td>64</td>\n      <td>58</td>\n      <td>80</td>\n      <td>65</td>\n      <td>80</td>\n      <td>1</td>\n      <td>False</td>\n      <td>122</td>\n    </tr>\n    <tr>\n      <th>Flying</th>\n      <td>Charizard</td>\n      <td>78</td>\n      <td>84</td>\n      <td>78</td>\n      <td>109</td>\n      <td>85</td>\n      <td>100</td>\n      <td>1</td>\n      <td>False</td>\n      <td>162</td>\n    </tr>\n    <tr>\n      <th>Dragon</th>\n      <td>Mega Charizard X</td>\n      <td>78</td>\n      <td>130</td>\n      <td>111</td>\n      <td>130</td>\n      <td>85</td>\n      <td>100</td>\n      <td>1</td>\n      <td>False</td>\n      <td>241</td>\n    </tr>\n    <tr>\n      <th>Flying</th>\n      <td>Mega Charizard Y</td>\n      <td>78</td>\n      <td>104</td>\n      <td>78</td>\n      <td>159</td>\n      <td>115</td>\n      <td>100</td>\n      <td>1</td>\n      <td>False</td>\n      <td>182</td>\n    </tr>\n    <tr>\n      <th rowspan=\"4\" valign=\"top\">Water</th>\n      <th>NaN</th>\n      <td>Squirtle</td>\n      <td>44</td>\n      <td>48</td>\n      <td>65</td>\n      <td>50</td>\n      <td>64</td>\n      <td>43</td>\n      <td>1</td>\n      <td>False</td>\n      <td>113</td>\n    </tr>\n    <tr>\n      <th>NaN</th>\n      <td>Wartortle</td>\n      <td>59</td>\n      <td>63</td>\n      <td>80</td>\n      <td>65</td>\n      <td>80</td>\n      <td>58</td>\n      <td>1</td>\n      <td>False</td>\n      <td>143</td>\n    </tr>\n    <tr>\n      <th>NaN</th>\n      <td>Blastoise</td>\n      <td>79</td>\n      <td>83</td>\n      <td>100</td>\n      <td>85</td>\n      <td>105</td>\n      <td>78</td>\n      <td>1</td>\n      <td>False</td>\n      <td>183</td>\n    </tr>\n    <tr>\n      <th>NaN</th>\n      <td>Mega Blastoise</td>\n      <td>79</td>\n      <td>103</td>\n      <td>120</td>\n      <td>135</td>\n      <td>115</td>\n      <td>78</td>\n      <td>1</td>\n      <td>False</td>\n      <td>223</td>\n    </tr>\n    <tr>\n      <th rowspan=\"7\" valign=\"top\">Bug</th>\n      <th>NaN</th>\n      <td>Caterpie</td>\n      <td>45</td>\n      <td>30</td>\n      <td>35</td>\n      <td>20</td>\n      <td>20</td>\n      <td>45</td>\n      <td>1</td>\n      <td>False</td>\n      <td>65</td>\n    </tr>\n    <tr>\n      <th>NaN</th>\n      <td>Metapod</td>\n      <td>50</td>\n      <td>20</td>\n      <td>55</td>\n      <td>25</td>\n      <td>25</td>\n      <td>30</td>\n      <td>1</td>\n      <td>False</td>\n      <td>75</td>\n    </tr>\n    <tr>\n      <th>Flying</th>\n      <td>Butterfree</td>\n      <td>60</td>\n      <td>45</td>\n      <td>50</td>\n      <td>90</td>\n      <td>80</td>\n      <td>70</td>\n      <td>1</td>\n      <td>False</td>\n      <td>95</td>\n    </tr>\n    <tr>\n      <th>Poison</th>\n      <td>Weedle</td>\n      <td>40</td>\n      <td>35</td>\n      <td>30</td>\n      <td>20</td>\n      <td>20</td>\n      <td>50</td>\n      <td>1</td>\n      <td>False</td>\n      <td>65</td>\n    </tr>\n    <tr>\n      <th>Poison</th>\n      <td>Kakuna</td>\n      <td>45</td>\n      <td>25</td>\n      <td>50</td>\n      <td>25</td>\n      <td>25</td>\n      <td>35</td>\n      <td>1</td>\n      <td>False</td>\n      <td>75</td>\n    </tr>\n    <tr>\n      <th>Poison</th>\n      <td>Beedrill</td>\n      <td>65</td>\n      <td>90</td>\n      <td>40</td>\n      <td>45</td>\n      <td>80</td>\n      <td>75</td>\n      <td>1</td>\n      <td>False</td>\n      <td>130</td>\n    </tr>\n    <tr>\n      <th>Poison</th>\n      <td>Mega Beedrill</td>\n      <td>65</td>\n      <td>150</td>\n      <td>40</td>\n      <td>15</td>\n      <td>80</td>\n      <td>145</td>\n      <td>1</td>\n      <td>False</td>\n      <td>190</td>\n    </tr>\n    <tr>\n      <th rowspan=\"8\" valign=\"top\">Normal</th>\n      <th>Flying</th>\n      <td>Pidgey</td>\n      <td>40</td>\n      <td>45</td>\n      <td>40</td>\n      <td>35</td>\n      <td>35</td>\n      <td>56</td>\n      <td>1</td>\n      <td>False</td>\n      <td>85</td>\n    </tr>\n    <tr>\n      <th>Flying</th>\n      <td>Pidgeotto</td>\n      <td>63</td>\n      <td>60</td>\n      <td>55</td>\n      <td>50</td>\n      <td>50</td>\n      <td>71</td>\n      <td>1</td>\n      <td>False</td>\n      <td>115</td>\n    </tr>\n    <tr>\n      <th>Flying</th>\n      <td>Pidgeot</td>\n      <td>83</td>\n      <td>80</td>\n      <td>75</td>\n      <td>70</td>\n      <td>70</td>\n      <td>101</td>\n      <td>1</td>\n      <td>False</td>\n      <td>155</td>\n    </tr>\n    <tr>\n      <th>Flying</th>\n      <td>Mega Pidgeot</td>\n      <td>83</td>\n      <td>80</td>\n      <td>80</td>\n      <td>135</td>\n      <td>80</td>\n      <td>121</td>\n      <td>1</td>\n      <td>False</td>\n      <td>160</td>\n    </tr>\n    <tr>\n      <th>NaN</th>\n      <td>Rattata</td>\n      <td>30</td>\n      <td>56</td>\n      <td>35</td>\n      <td>25</td>\n      <td>35</td>\n      <td>72</td>\n      <td>1</td>\n      <td>False</td>\n      <td>91</td>\n    </tr>\n    <tr>\n      <th>NaN</th>\n      <td>Raticate</td>\n      <td>55</td>\n      <td>81</td>\n      <td>60</td>\n      <td>50</td>\n      <td>70</td>\n      <td>97</td>\n      <td>1</td>\n      <td>False</td>\n      <td>141</td>\n    </tr>\n    <tr>\n      <th>Flying</th>\n      <td>Spearow</td>\n      <td>40</td>\n      <td>60</td>\n      <td>30</td>\n      <td>31</td>\n      <td>31</td>\n      <td>70</td>\n      <td>1</td>\n      <td>False</td>\n      <td>90</td>\n    </tr>\n    <tr>\n      <th>Flying</th>\n      <td>Fearow</td>\n      <td>65</td>\n      <td>90</td>\n      <td>65</td>\n      <td>61</td>\n      <td>61</td>\n      <td>100</td>\n      <td>1</td>\n      <td>False</td>\n      <td>155</td>\n    </tr>\n    <tr>\n      <th rowspan=\"2\" valign=\"top\">Poison</th>\n      <th>NaN</th>\n      <td>Ekans</td>\n      <td>35</td>\n      <td>60</td>\n      <td>44</td>\n      <td>40</td>\n      <td>54</td>\n      <td>55</td>\n      <td>1</td>\n      <td>False</td>\n      <td>104</td>\n    </tr>\n    <tr>\n      <th>NaN</th>\n      <td>Arbok</td>\n      <td>60</td>\n      <td>85</td>\n      <td>69</td>\n      <td>65</td>\n      <td>79</td>\n      <td>80</td>\n      <td>1</td>\n      <td>False</td>\n      <td>154</td>\n    </tr>\n    <tr>\n      <th>...</th>\n      <th>...</th>\n      <td>...</td>\n      <td>...</td>\n      <td>...</td>\n      <td>...</td>\n      <td>...</td>\n      <td>...</td>\n      <td>...</td>\n      <td>...</td>\n      <td>...</td>\n      <td>...</td>\n    </tr>\n    <tr>\n      <th rowspan=\"2\" valign=\"top\">Psychic</th>\n      <th>NaN</th>\n      <td>Alakazam</td>\n      <td>55</td>\n      <td>50</td>\n      <td>45</td>\n      <td>135</td>\n      <td>95</td>\n      <td>120</td>\n      <td>1</td>\n      <td>False</td>\n      <td>95</td>\n    </tr>\n    <tr>\n      <th>NaN</th>\n      <td>Mega Alakazam</td>\n      <td>55</td>\n      <td>50</td>\n      <td>65</td>\n      <td>175</td>\n      <td>95</td>\n      <td>150</td>\n      <td>1</td>\n      <td>False</td>\n      <td>115</td>\n    </tr>\n    <tr>\n      <th rowspan=\"3\" valign=\"top\">Fighting</th>\n      <th>NaN</th>\n      <td>Machop</td>\n      <td>70</td>\n      <td>80</td>\n      <td>50</td>\n      <td>35</td>\n      <td>35</td>\n      <td>35</td>\n      <td>1</td>\n      <td>False</td>\n      <td>130</td>\n    </tr>\n    <tr>\n      <th>NaN</th>\n      <td>Machoke</td>\n      <td>80</td>\n      <td>100</td>\n      <td>70</td>\n      <td>50</td>\n      <td>60</td>\n      <td>45</td>\n      <td>1</td>\n      <td>False</td>\n      <td>170</td>\n    </tr>\n    <tr>\n      <th>NaN</th>\n      <td>Machamp</td>\n      <td>90</td>\n      <td>130</td>\n      <td>80</td>\n      <td>65</td>\n      <td>85</td>\n      <td>55</td>\n      <td>1</td>\n      <td>False</td>\n      <td>210</td>\n    </tr>\n    <tr>\n      <th rowspan=\"3\" valign=\"top\">Grass</th>\n      <th>Poison</th>\n      <td>Bellsprout</td>\n      <td>50</td>\n      <td>75</td>\n      <td>35</td>\n      <td>70</td>\n      <td>30</td>\n      <td>40</td>\n      <td>1</td>\n      <td>False</td>\n      <td>110</td>\n    </tr>\n    <tr>\n      <th>Poison</th>\n      <td>Weepinbell</td>\n      <td>65</td>\n      <td>90</td>\n      <td>50</td>\n      <td>85</td>\n      <td>45</td>\n      <td>55</td>\n      <td>1</td>\n      <td>False</td>\n      <td>140</td>\n    </tr>\n    <tr>\n      <th>Poison</th>\n      <td>Victreebel</td>\n      <td>80</td>\n      <td>105</td>\n      <td>65</td>\n      <td>100</td>\n      <td>70</td>\n      <td>70</td>\n      <td>1</td>\n      <td>False</td>\n      <td>170</td>\n    </tr>\n    <tr>\n      <th rowspan=\"2\" valign=\"top\">Water</th>\n      <th>Poison</th>\n      <td>Tentacool</td>\n      <td>40</td>\n      <td>40</td>\n      <td>35</td>\n      <td>50</td>\n      <td>100</td>\n      <td>70</td>\n      <td>1</td>\n      <td>False</td>\n      <td>75</td>\n    </tr>\n    <tr>\n      <th>Poison</th>\n      <td>Tentacruel</td>\n      <td>80</td>\n      <td>70</td>\n      <td>65</td>\n      <td>80</td>\n      <td>120</td>\n      <td>100</td>\n      <td>1</td>\n      <td>False</td>\n      <td>135</td>\n    </tr>\n    <tr>\n      <th rowspan=\"3\" valign=\"top\">Rock</th>\n      <th>Ground</th>\n      <td>Geodude</td>\n      <td>40</td>\n      <td>80</td>\n      <td>100</td>\n      <td>30</td>\n      <td>30</td>\n      <td>20</td>\n      <td>1</td>\n      <td>False</td>\n      <td>180</td>\n    </tr>\n    <tr>\n      <th>Ground</th>\n      <td>Graveler</td>\n      <td>55</td>\n      <td>95</td>\n      <td>115</td>\n      <td>45</td>\n      <td>45</td>\n      <td>35</td>\n      <td>1</td>\n      <td>False</td>\n      <td>210</td>\n    </tr>\n    <tr>\n      <th>Ground</th>\n      <td>Golem</td>\n      <td>80</td>\n      <td>120</td>\n      <td>130</td>\n      <td>55</td>\n      <td>65</td>\n      <td>45</td>\n      <td>1</td>\n      <td>False</td>\n      <td>250</td>\n    </tr>\n    <tr>\n      <th rowspan=\"2\" valign=\"top\">Fire</th>\n      <th>NaN</th>\n      <td>Ponyta</td>\n      <td>50</td>\n      <td>85</td>\n      <td>55</td>\n      <td>65</td>\n      <td>65</td>\n      <td>90</td>\n      <td>1</td>\n      <td>False</td>\n      <td>140</td>\n    </tr>\n    <tr>\n      <th>NaN</th>\n      <td>Rapidash</td>\n      <td>65</td>\n      <td>100</td>\n      <td>70</td>\n      <td>80</td>\n      <td>80</td>\n      <td>105</td>\n      <td>1</td>\n      <td>False</td>\n      <td>170</td>\n    </tr>\n    <tr>\n      <th rowspan=\"3\" valign=\"top\">Water</th>\n      <th>Psychic</th>\n      <td>Slowpoke</td>\n      <td>90</td>\n      <td>65</td>\n      <td>65</td>\n      <td>40</td>\n      <td>40</td>\n      <td>15</td>\n      <td>1</td>\n      <td>False</td>\n      <td>130</td>\n    </tr>\n    <tr>\n      <th>Psychic</th>\n      <td>Slowbro</td>\n      <td>95</td>\n      <td>75</td>\n      <td>110</td>\n      <td>100</td>\n      <td>80</td>\n      <td>30</td>\n      <td>1</td>\n      <td>False</td>\n      <td>185</td>\n    </tr>\n    <tr>\n      <th>Psychic</th>\n      <td>Mega Slowbro</td>\n      <td>95</td>\n      <td>75</td>\n      <td>180</td>\n      <td>130</td>\n      <td>80</td>\n      <td>30</td>\n      <td>1</td>\n      <td>False</td>\n      <td>255</td>\n    </tr>\n    <tr>\n      <th rowspan=\"2\" valign=\"top\">Electric</th>\n      <th>Steel</th>\n      <td>Magnemite</td>\n      <td>25</td>\n      <td>35</td>\n      <td>70</td>\n      <td>95</td>\n      <td>55</td>\n      <td>45</td>\n      <td>1</td>\n      <td>False</td>\n      <td>105</td>\n    </tr>\n    <tr>\n      <th>Steel</th>\n      <td>Magneton</td>\n      <td>50</td>\n      <td>60</td>\n      <td>95</td>\n      <td>120</td>\n      <td>70</td>\n      <td>70</td>\n      <td>1</td>\n      <td>False</td>\n      <td>155</td>\n    </tr>\n    <tr>\n      <th rowspan=\"3\" valign=\"top\">Normal</th>\n      <th>Flying</th>\n      <td>Farfetch'd</td>\n      <td>52</td>\n      <td>65</td>\n      <td>55</td>\n      <td>58</td>\n      <td>62</td>\n      <td>60</td>\n      <td>1</td>\n      <td>False</td>\n      <td>120</td>\n    </tr>\n    <tr>\n      <th>Flying</th>\n      <td>Doduo</td>\n      <td>35</td>\n      <td>85</td>\n      <td>45</td>\n      <td>35</td>\n      <td>35</td>\n      <td>75</td>\n      <td>1</td>\n      <td>False</td>\n      <td>130</td>\n    </tr>\n    <tr>\n      <th>Flying</th>\n      <td>Dodrio</td>\n      <td>60</td>\n      <td>110</td>\n      <td>70</td>\n      <td>60</td>\n      <td>60</td>\n      <td>100</td>\n      <td>1</td>\n      <td>False</td>\n      <td>180</td>\n    </tr>\n    <tr>\n      <th rowspan=\"2\" valign=\"top\">Water</th>\n      <th>NaN</th>\n      <td>Seel</td>\n      <td>65</td>\n      <td>45</td>\n      <td>55</td>\n      <td>45</td>\n      <td>70</td>\n      <td>45</td>\n      <td>1</td>\n      <td>False</td>\n      <td>100</td>\n    </tr>\n    <tr>\n      <th>Ice</th>\n      <td>Dewgong</td>\n      <td>90</td>\n      <td>70</td>\n      <td>80</td>\n      <td>70</td>\n      <td>95</td>\n      <td>70</td>\n      <td>1</td>\n      <td>False</td>\n      <td>150</td>\n    </tr>\n    <tr>\n      <th rowspan=\"2\" valign=\"top\">Poison</th>\n      <th>NaN</th>\n      <td>Grimer</td>\n      <td>80</td>\n      <td>80</td>\n      <td>50</td>\n      <td>40</td>\n      <td>50</td>\n      <td>25</td>\n      <td>1</td>\n      <td>False</td>\n      <td>130</td>\n    </tr>\n    <tr>\n      <th>NaN</th>\n      <td>Muk</td>\n      <td>105</td>\n      <td>105</td>\n      <td>75</td>\n      <td>65</td>\n      <td>100</td>\n      <td>50</td>\n      <td>1</td>\n      <td>False</td>\n      <td>180</td>\n    </tr>\n    <tr>\n      <th rowspan=\"2\" valign=\"top\">Water</th>\n      <th>NaN</th>\n      <td>Shellder</td>\n      <td>30</td>\n      <td>65</td>\n      <td>100</td>\n      <td>45</td>\n      <td>25</td>\n      <td>40</td>\n      <td>1</td>\n      <td>False</td>\n      <td>165</td>\n    </tr>\n    <tr>\n      <th>Ice</th>\n      <td>Cloyster</td>\n      <td>50</td>\n      <td>95</td>\n      <td>180</td>\n      <td>85</td>\n      <td>45</td>\n      <td>70</td>\n      <td>1</td>\n      <td>False</td>\n      <td>275</td>\n    </tr>\n    <tr>\n      <th>Ghost</th>\n      <th>Poison</th>\n      <td>Gastly</td>\n      <td>30</td>\n      <td>35</td>\n      <td>30</td>\n      <td>100</td>\n      <td>35</td>\n      <td>80</td>\n      <td>1</td>\n      <td>False</td>\n      <td>65</td>\n    </tr>\n  </tbody>\n</table>\n<p>100 rows × 10 columns</p>\n</div>"
          },
          "metadata": {}
        }
      ]
    },
    {
      "metadata": {
        "trusted": true,
        "_uuid": "60fe55c065b8d48fedb341c14295285f104c0932"
      },
      "cell_type": "code",
      "source": "dic = {\"treatment\":[\"A\",\"A\",\"B\",\"B\"],\"gender\":[\"F\",\"M\",\"F\",\"M\"],\"response\":[10,45,5,9],\"age\":[15,4,72,65]}\ndf = pd.DataFrame(dic)\ndf",
      "execution_count": 38,
      "outputs": [
        {
          "output_type": "execute_result",
          "execution_count": 38,
          "data": {
            "text/plain": "  treatment gender  response  age\n0         A      F        10   15\n1         A      M        45    4\n2         B      F         5   72\n3         B      M         9   65",
            "text/html": "<div>\n<style scoped>\n    .dataframe tbody tr th:only-of-type {\n        vertical-align: middle;\n    }\n\n    .dataframe tbody tr th {\n        vertical-align: top;\n    }\n\n    .dataframe thead th {\n        text-align: right;\n    }\n</style>\n<table border=\"1\" class=\"dataframe\">\n  <thead>\n    <tr style=\"text-align: right;\">\n      <th></th>\n      <th>treatment</th>\n      <th>gender</th>\n      <th>response</th>\n      <th>age</th>\n    </tr>\n  </thead>\n  <tbody>\n    <tr>\n      <th>0</th>\n      <td>A</td>\n      <td>F</td>\n      <td>10</td>\n      <td>15</td>\n    </tr>\n    <tr>\n      <th>1</th>\n      <td>A</td>\n      <td>M</td>\n      <td>45</td>\n      <td>4</td>\n    </tr>\n    <tr>\n      <th>2</th>\n      <td>B</td>\n      <td>F</td>\n      <td>5</td>\n      <td>72</td>\n    </tr>\n    <tr>\n      <th>3</th>\n      <td>B</td>\n      <td>M</td>\n      <td>9</td>\n      <td>65</td>\n    </tr>\n  </tbody>\n</table>\n</div>"
          },
          "metadata": {}
        }
      ]
    },
    {
      "metadata": {
        "trusted": true,
        "_uuid": "afc9444b90146df088b755b8d09eeaa0f8f7c85c"
      },
      "cell_type": "code",
      "source": "df.pivot(index = 'treatment',columns = 'gender',values = 'response')",
      "execution_count": 40,
      "outputs": [
        {
          "output_type": "execute_result",
          "execution_count": 40,
          "data": {
            "text/plain": "gender      F   M\ntreatment        \nA          10  45\nB           5   9",
            "text/html": "<div>\n<style scoped>\n    .dataframe tbody tr th:only-of-type {\n        vertical-align: middle;\n    }\n\n    .dataframe tbody tr th {\n        vertical-align: top;\n    }\n\n    .dataframe thead th {\n        text-align: right;\n    }\n</style>\n<table border=\"1\" class=\"dataframe\">\n  <thead>\n    <tr style=\"text-align: right;\">\n      <th>gender</th>\n      <th>F</th>\n      <th>M</th>\n    </tr>\n    <tr>\n      <th>treatment</th>\n      <th></th>\n      <th></th>\n    </tr>\n  </thead>\n  <tbody>\n    <tr>\n      <th>A</th>\n      <td>10</td>\n      <td>45</td>\n    </tr>\n    <tr>\n      <th>B</th>\n      <td>5</td>\n      <td>9</td>\n    </tr>\n  </tbody>\n</table>\n</div>"
          },
          "metadata": {}
        }
      ]
    },
    {
      "metadata": {
        "trusted": true,
        "_uuid": "da744bedc354107e1cfa155e749ec254e4bdf1f5"
      },
      "cell_type": "code",
      "source": "df1=df.set_index(['treatment','gender'])\ndf1",
      "execution_count": 41,
      "outputs": [
        {
          "output_type": "execute_result",
          "execution_count": 41,
          "data": {
            "text/plain": "                  response  age\ntreatment gender               \nA         F             10   15\n          M             45    4\nB         F              5   72\n          M              9   65",
            "text/html": "<div>\n<style scoped>\n    .dataframe tbody tr th:only-of-type {\n        vertical-align: middle;\n    }\n\n    .dataframe tbody tr th {\n        vertical-align: top;\n    }\n\n    .dataframe thead th {\n        text-align: right;\n    }\n</style>\n<table border=\"1\" class=\"dataframe\">\n  <thead>\n    <tr style=\"text-align: right;\">\n      <th></th>\n      <th></th>\n      <th>response</th>\n      <th>age</th>\n    </tr>\n    <tr>\n      <th>treatment</th>\n      <th>gender</th>\n      <th></th>\n      <th></th>\n    </tr>\n  </thead>\n  <tbody>\n    <tr>\n      <th rowspan=\"2\" valign=\"top\">A</th>\n      <th>F</th>\n      <td>10</td>\n      <td>15</td>\n    </tr>\n    <tr>\n      <th>M</th>\n      <td>45</td>\n      <td>4</td>\n    </tr>\n    <tr>\n      <th rowspan=\"2\" valign=\"top\">B</th>\n      <th>F</th>\n      <td>5</td>\n      <td>72</td>\n    </tr>\n    <tr>\n      <th>M</th>\n      <td>9</td>\n      <td>65</td>\n    </tr>\n  </tbody>\n</table>\n</div>"
          },
          "metadata": {}
        }
      ]
    },
    {
      "metadata": {
        "trusted": true,
        "_uuid": "27a84453abdfb7777a33ffae5cfc8495af85a145"
      },
      "cell_type": "code",
      "source": "pd.melt(df,id_vars=\"treatment\",value_vars=[\"age\",\"response\"])",
      "execution_count": 42,
      "outputs": [
        {
          "output_type": "execute_result",
          "execution_count": 42,
          "data": {
            "text/plain": "  treatment  variable  value\n0         A       age     15\n1         A       age      4\n2         B       age     72\n3         B       age     65\n4         A  response     10\n5         A  response     45\n6         B  response      5\n7         B  response      9",
            "text/html": "<div>\n<style scoped>\n    .dataframe tbody tr th:only-of-type {\n        vertical-align: middle;\n    }\n\n    .dataframe tbody tr th {\n        vertical-align: top;\n    }\n\n    .dataframe thead th {\n        text-align: right;\n    }\n</style>\n<table border=\"1\" class=\"dataframe\">\n  <thead>\n    <tr style=\"text-align: right;\">\n      <th></th>\n      <th>treatment</th>\n      <th>variable</th>\n      <th>value</th>\n    </tr>\n  </thead>\n  <tbody>\n    <tr>\n      <th>0</th>\n      <td>A</td>\n      <td>age</td>\n      <td>15</td>\n    </tr>\n    <tr>\n      <th>1</th>\n      <td>A</td>\n      <td>age</td>\n      <td>4</td>\n    </tr>\n    <tr>\n      <th>2</th>\n      <td>B</td>\n      <td>age</td>\n      <td>72</td>\n    </tr>\n    <tr>\n      <th>3</th>\n      <td>B</td>\n      <td>age</td>\n      <td>65</td>\n    </tr>\n    <tr>\n      <th>4</th>\n      <td>A</td>\n      <td>response</td>\n      <td>10</td>\n    </tr>\n    <tr>\n      <th>5</th>\n      <td>A</td>\n      <td>response</td>\n      <td>45</td>\n    </tr>\n    <tr>\n      <th>6</th>\n      <td>B</td>\n      <td>response</td>\n      <td>5</td>\n    </tr>\n    <tr>\n      <th>7</th>\n      <td>B</td>\n      <td>response</td>\n      <td>9</td>\n    </tr>\n  </tbody>\n</table>\n</div>"
          },
          "metadata": {}
        }
      ]
    },
    {
      "metadata": {
        "trusted": true,
        "_uuid": "214e09a9983a0ec3f0531a3ab02bffae8832cb10"
      },
      "cell_type": "code",
      "source": "df.groupby(\"treatment\").mean()",
      "execution_count": 43,
      "outputs": [
        {
          "output_type": "execute_result",
          "execution_count": 43,
          "data": {
            "text/plain": "           response   age\ntreatment                \nA              27.5   9.5\nB               7.0  68.5",
            "text/html": "<div>\n<style scoped>\n    .dataframe tbody tr th:only-of-type {\n        vertical-align: middle;\n    }\n\n    .dataframe tbody tr th {\n        vertical-align: top;\n    }\n\n    .dataframe thead th {\n        text-align: right;\n    }\n</style>\n<table border=\"1\" class=\"dataframe\">\n  <thead>\n    <tr style=\"text-align: right;\">\n      <th></th>\n      <th>response</th>\n      <th>age</th>\n    </tr>\n    <tr>\n      <th>treatment</th>\n      <th></th>\n      <th></th>\n    </tr>\n  </thead>\n  <tbody>\n    <tr>\n      <th>A</th>\n      <td>27.5</td>\n      <td>9.5</td>\n    </tr>\n    <tr>\n      <th>B</th>\n      <td>7.0</td>\n      <td>68.5</td>\n    </tr>\n  </tbody>\n</table>\n</div>"
          },
          "metadata": {}
        }
      ]
    },
    {
      "metadata": {
        "trusted": true,
        "_uuid": "e7b788bff5d07b948aa251686734a7883c4827f3"
      },
      "cell_type": "code",
      "source": "df.groupby(\"treatment\").age.max() ",
      "execution_count": 44,
      "outputs": [
        {
          "output_type": "execute_result",
          "execution_count": 44,
          "data": {
            "text/plain": "treatment\nA    15\nB    72\nName: age, dtype: int64"
          },
          "metadata": {}
        }
      ]
    },
    {
      "metadata": {
        "trusted": true,
        "_uuid": "054f6bb861927642890ee445894e9cbbe5445e06"
      },
      "cell_type": "code",
      "source": "df.groupby(\"treatment\")[[\"age\",\"response\"]].min() ",
      "execution_count": 45,
      "outputs": [
        {
          "output_type": "execute_result",
          "execution_count": 45,
          "data": {
            "text/plain": "           age  response\ntreatment               \nA            4        10\nB           65         5",
            "text/html": "<div>\n<style scoped>\n    .dataframe tbody tr th:only-of-type {\n        vertical-align: middle;\n    }\n\n    .dataframe tbody tr th {\n        vertical-align: top;\n    }\n\n    .dataframe thead th {\n        text-align: right;\n    }\n</style>\n<table border=\"1\" class=\"dataframe\">\n  <thead>\n    <tr style=\"text-align: right;\">\n      <th></th>\n      <th>age</th>\n      <th>response</th>\n    </tr>\n    <tr>\n      <th>treatment</th>\n      <th></th>\n      <th></th>\n    </tr>\n  </thead>\n  <tbody>\n    <tr>\n      <th>A</th>\n      <td>4</td>\n      <td>10</td>\n    </tr>\n    <tr>\n      <th>B</th>\n      <td>65</td>\n      <td>5</td>\n    </tr>\n  </tbody>\n</table>\n</div>"
          },
          "metadata": {}
        }
      ]
    },
    {
      "metadata": {
        "trusted": true,
        "_uuid": "16198e7f2fbd1d70462680d2fc9110e6ce73f942"
      },
      "cell_type": "code",
      "source": "df.info()\n",
      "execution_count": 46,
      "outputs": [
        {
          "output_type": "stream",
          "text": "<class 'pandas.core.frame.DataFrame'>\nRangeIndex: 4 entries, 0 to 3\nData columns (total 4 columns):\ntreatment    4 non-null object\ngender       4 non-null object\nresponse     4 non-null int64\nage          4 non-null int64\ndtypes: int64(2), object(2)\nmemory usage: 208.0+ bytes\n",
          "name": "stdout"
        }
      ]
    }
  ],
  "metadata": {
    "kernelspec": {
      "display_name": "Python 3",
      "language": "python",
      "name": "python3"
    },
    "language_info": {
      "name": "python",
      "version": "3.6.6",
      "mimetype": "text/x-python",
      "codemirror_mode": {
        "name": "ipython",
        "version": 3
      },
      "pygments_lexer": "ipython3",
      "nbconvert_exporter": "python",
      "file_extension": ".py"
    }
  },
  "nbformat": 4,
  "nbformat_minor": 1
}